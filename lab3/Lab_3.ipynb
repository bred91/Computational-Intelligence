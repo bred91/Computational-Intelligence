{
 "cells": [
  {
   "cell_type": "markdown",
   "metadata": {
    "pycharm": {
     "name": "#%% md\n"
    }
   },
   "source": [
    "Copyright **`(c)`** 2022 Giovanni Squillero `<squillero@polito.it>`  \n",
    "[`https://github.com/squillero/computational-intelligence`](https://github.com/squillero/computational-intelligence)  \n",
    "Free for personal or classroom use; see [`LICENSE.md`](https://github.com/squillero/computational-intelligence/blob/master/LICENSE.md) for details.  \n"
   ]
  },
  {
   "cell_type": "markdown",
   "metadata": {
    "pycharm": {
     "name": "#%%\n"
    }
   },
   "source": [
    "# Lab 3: Policy Search\n",
    "\n",
    "## Task\n",
    "\n",
    "Write agents able to play [*Nim*](https://en.wikipedia.org/wiki/Nim), with an arbitrary number of rows and an upper bound $k$ on the number of objects that can be removed in a turn (a.k.a., *subtraction game*).\n",
    "\n",
    "The player **taking the last object wins**.\n",
    "\n",
    "* Task3.1: An agent using fixed rules based on *nim-sum* (i.e., an *expert system*)\n",
    "* Task3.2: An agent using evolved rules\n",
    "* Task3.3: An agent using minmax\n",
    "* Task3.4: An agent using reinforcement learning\n",
    "\n",
    "## Instructions\n",
    "\n",
    "* Create the directory `lab3` inside the course repo \n",
    "* Put a `README.md` and your solution (all the files, code and auxiliary data if needed)\n",
    "\n",
    "## Notes\n",
    "\n",
    "* Working in group is not only allowed, but recommended (see: [Ubuntu](https://en.wikipedia.org/wiki/Ubuntu_philosophy) and [Cooperative Learning](https://files.eric.ed.gov/fulltext/EJ1096789.pdf)). Collaborations must be explicitly declared in the `README.md`.\n",
    "* [Yanking](https://www.emacswiki.org/emacs/KillingAndYanking) from the internet is allowed, but sources must be explicitly declared in the `README.md`.\n",
    "\n",
    "## Deadlines ([AoE](https://en.wikipedia.org/wiki/Anywhere_on_Earth)) \n",
    "\n",
    "* Sunday, December 4th for Task3.1 and Task3.2\n",
    "* Sunday, December 11th for Task3.3 and Task3.4\n",
    "* Sunday, December 18th for all reviews"
   ]
  },
  {
   "cell_type": "markdown",
   "metadata": {},
   "source": [
    "## Solution"
   ]
  },
  {
   "cell_type": "code",
   "execution_count": 17,
   "metadata": {},
   "outputs": [],
   "source": [
    "import logging\n",
    "import random\n",
    "from collections import namedtuple\n",
    "from itertools import accumulate\n",
    "from operator import xor\n",
    "from copy import deepcopy\n",
    "from typing import Callable\n",
    "import math"
   ]
  },
  {
   "cell_type": "code",
   "execution_count": 18,
   "metadata": {},
   "outputs": [],
   "source": [
    "logging.basicConfig(level=logging.INFO)"
   ]
  },
  {
   "cell_type": "code",
   "execution_count": 19,
   "metadata": {},
   "outputs": [],
   "source": [
    "Nimply = namedtuple(\"Nimply\", \"row, num_objects\")"
   ]
  },
  {
   "cell_type": "code",
   "execution_count": 135,
   "metadata": {},
   "outputs": [],
   "source": [
    "class Nim():\n",
    "    '''a basic class for the game of Nim'''\n",
    "    def __init__(self, num_rows: int, k: int = None) -> None:\n",
    "        self._rows = [i*2 + 1 for i in range(num_rows)]\n",
    "        self._k = k\n",
    "\n",
    "    def __bool__(self):\n",
    "        return sum(self._rows) > 0\n",
    "\n",
    "    def __str__(self):\n",
    "        return \"<\" + \" \".join(str(_) for _ in self._rows) + \">\"\n",
    "\n",
    "    @property\n",
    "    def rows(self) -> tuple:\n",
    "        return tuple(self._rows)\n",
    "\n",
    "    @property\n",
    "    def k(self) -> int:\n",
    "        return self._k\n",
    "\n",
    "    def nimming(self, row: int, num_objects: int) -> None:\n",
    "        assert self._rows[row] >= num_objects\n",
    "        assert self._k is None or num_objects <= self._k\n",
    "        self._rows[row] -= num_objects\n",
    "        if sum(self._rows) == 0:\n",
    "            logging.info(\"Yeuch\")\n",
    "\n",
    "    def nimming2(self, ply: Nimply) -> None:\n",
    "        row, num_objects = ply\n",
    "        assert self._rows[row] >= num_objects\n",
    "        assert self._k is None or num_objects <= self._k\n",
    "        self._rows[row] -= num_objects\n",
    "            \n",
    "    def is_terminal(self) -> bool:\n",
    "        return sum(self._rows) == 0\n",
    "        \n",
    "    def utility(self):\n",
    "        return 1 if self.is_terminal() else 0  \n",
    "\n",
    "    def actions(self, k = None):\n",
    "        if k is None:        \n",
    "            return [(i, j) for i in range(len(self._rows)) for j in range(1, self._rows[i] + 1)]\n",
    "        else:\n",
    "            return [(i, j) for i in range(len(self._rows)) for j in range(1, min(self._rows[i] + 1, k + 1))]   "
   ]
  },
  {
   "cell_type": "code",
   "execution_count": 21,
   "metadata": {},
   "outputs": [],
   "source": [
    "def pure_random(state: Nim) -> Nimply:\n",
    "    row = random.choice([r for r, c in enumerate(state.rows) if c > 0])\n",
    "    num_objects = random.randint(1, state.rows[row])\n",
    "    return Nimply(row, num_objects)"
   ]
  },
  {
   "cell_type": "code",
   "execution_count": 22,
   "metadata": {},
   "outputs": [],
   "source": [
    "def nim_sum(state: Nim) -> int:\n",
    "    *_, result = accumulate(state.rows, xor)\n",
    "    return result"
   ]
  },
  {
   "cell_type": "markdown",
   "metadata": {},
   "source": [
    "### Task 3.1: An agent using fixed rules based"
   ]
  },
  {
   "cell_type": "code",
   "execution_count": 28,
   "metadata": {},
   "outputs": [
    {
     "data": {
      "text/plain": [
       "[1, 3, 5, 7, 9]"
      ]
     },
     "execution_count": 28,
     "metadata": {},
     "output_type": "execute_result"
    }
   ],
   "source": [
    "num_rows = 5\n",
    "k = 3\n",
    "z = Nim(num_rows, k)\n",
    "z._rows"
   ]
  },
  {
   "cell_type": "code",
   "execution_count": 37,
   "metadata": {},
   "outputs": [],
   "source": [
    "def rules(z, num_rows):\n",
    "    '''a very basic AI based on simple rules'''\n",
    "    cont1 = 0   # number of rows with 1 object\n",
    "    cont0 = 0   # number of rows with 0 objects\n",
    "    contN = 0   # number of rows with more than 1 object\n",
    "    for i in range(len(z._rows)):\n",
    "        if z._rows[i] == 1:\n",
    "            cont1 += 1\n",
    "        elif z._rows[i] == 0:\n",
    "            cont0 += 1\n",
    "        else:\n",
    "            contN += 1\n",
    "    \n",
    "    # if there are more 1's and 0's then other numbers \n",
    "    if cont1 + cont0 >= num_rows//2:\n",
    "        if cont1 % 2 == 0 and contN == 1:\n",
    "            # then the AI will try to remove the highest number \n",
    "            move = max(z.actions(k), key = lambda x: x[1])\n",
    "            z.nimming(move[0], move[1])\n",
    "        elif cont1 % 2 != 0 and contN == 1: \n",
    "            # then the AI will try to remove the highest number - 1 (if possible)\n",
    "            move_ = max(z.actions(k), key = lambda x: x[1])\n",
    "            move = (move_[0], move_[1] - 1 if move_[1] > 1 else move_[1])\n",
    "            z.nimming(move[0], move[1])\n",
    "        else:\n",
    "            # otherwise the AI will remove a random number\n",
    "            move = random.choice(z.actions(k))\n",
    "            z.nimming(move[0], move[1])\n",
    "    # else the AI will move randomly\n",
    "    else:        \n",
    "        move = random.choice(z.actions(k))\n",
    "        z.nimming(move[0], move[1])\n",
    "\n",
    "    return move"
   ]
  },
  {
   "cell_type": "code",
   "execution_count": 38,
   "metadata": {},
   "outputs": [],
   "source": [
    "my_turn = not random.choice([True,False])"
   ]
  },
  {
   "cell_type": "markdown",
   "metadata": {},
   "source": [
    "In the next cell you have an interactive Nim game with a rule based agent. When you play it, and it is your turn, you need to input the row (zero based) first and the number of objects secondly."
   ]
  },
  {
   "cell_type": "code",
   "execution_count": 39,
   "metadata": {},
   "outputs": [
    {
     "name": "stderr",
     "output_type": "stream",
     "text": [
      "INFO:root:Situation pre my_turn:[1, 3, 5, 7, 9] post my_turn:[1, 3, 5, 7, 6] move:(4, 3)\n",
      "INFO:root:Possible pc actions for this turn: \n",
      "[(0, 1), (1, 1), (1, 2), (1, 3), (2, 1), (2, 2), (2, 3), (3, 1), (3, 2), (3, 3), (4, 1), (4, 2), (4, 3)]\n",
      "INFO:root:Situation pre pc_turn:[1, 3, 5, 7, 6] post pc_turn:[1, 3, 5, 7, 5] move: (4, 1)\n",
      "INFO:root:Situation pre my_turn:[1, 3, 5, 7, 5] post my_turn:[1, 3, 5, 7, 2] move:(4, 3)\n",
      "INFO:root:Possible pc actions for this turn: \n",
      "[(0, 1), (1, 1), (1, 2), (1, 3), (2, 1), (2, 2), (2, 3), (3, 1), (3, 2), (3, 3), (4, 1), (4, 2)]\n",
      "INFO:root:Situation pre pc_turn:[1, 3, 5, 7, 2] post pc_turn:[1, 0, 5, 7, 2] move: (1, 3)\n"
     ]
    },
    {
     "name": "stdout",
     "output_type": "stream",
     "text": [
      "Invalid move\n",
      "Invalid move\n"
     ]
    },
    {
     "name": "stderr",
     "output_type": "stream",
     "text": [
      "INFO:root:Situation pre my_turn:[1, 0, 5, 7, 2] post my_turn:[1, 0, 5, 7, 0] move:(4, 2)\n",
      "INFO:root:Possible pc actions for this turn: \n",
      "[(0, 1), (2, 1), (2, 2), (2, 3), (3, 1), (3, 2), (3, 3)]\n",
      "INFO:root:Situation pre pc_turn:[1, 0, 5, 7, 0] post pc_turn:[1, 0, 5, 6, 0] move: (3, 1)\n",
      "INFO:root:Situation pre my_turn:[1, 0, 5, 6, 0] post my_turn:[1, 0, 5, 3, 0] move:(3, 3)\n",
      "INFO:root:Possible pc actions for this turn: \n",
      "[(0, 1), (2, 1), (2, 2), (2, 3), (3, 1), (3, 2), (3, 3)]\n",
      "INFO:root:Situation pre pc_turn:[1, 0, 5, 3, 0] post pc_turn:[1, 0, 2, 3, 0] move: (2, 3)\n",
      "INFO:root:Situation pre my_turn:[1, 0, 2, 3, 0] post my_turn:[1, 0, 2, 0, 0] move:(3, 3)\n",
      "INFO:root:Possible pc actions for this turn: \n",
      "[(0, 1), (2, 1), (2, 2)]\n",
      "INFO:root:Situation pre pc_turn:[1, 0, 2, 0, 0] post pc_turn:[1, 0, 1, 0, 0] move: (2, 1)\n",
      "INFO:root:Situation pre my_turn:[1, 0, 1, 0, 0] post my_turn:[1, 0, 0, 0, 0] move:(2, 1)\n",
      "INFO:root:Possible pc actions for this turn: \n",
      "[(0, 1)]\n",
      "INFO:root:Yeuch\n",
      "INFO:root:Situation pre pc_turn:[1, 0, 0, 0, 0] post pc_turn:[0, 0, 0, 0, 0] move: (0, 1)\n"
     ]
    },
    {
     "name": "stdout",
     "output_type": "stream",
     "text": [
      "You lost!\n"
     ]
    }
   ],
   "source": [
    "# Play the game\n",
    "while not z.is_terminal():\n",
    "    my_turn = not my_turn\n",
    "    if my_turn:      \n",
    "        input_validation = False\n",
    "        while input_validation is not True:\n",
    "            try:\n",
    "                pre = z._rows.copy()\n",
    "                row = input(f\"Your turn! Situation:{z._rows} Row (zero based): \")\n",
    "                num_objects = input(f\"Situation:{z._rows} k is {k} Number of objects: \")\n",
    "                assert row != '' and num_objects != '' \n",
    "                assert int(row) in range(len(z._rows))\n",
    "                assert int(num_objects) <= k if k is not None else True\n",
    "                assert int(num_objects) in range(1, z._rows[int(row)] + 1)\n",
    "                z.nimming(int(row), int(num_objects))\n",
    "                input_validation = True\n",
    "                logging.info(f\"Situation pre my_turn:{pre} post my_turn:{z._rows} move:({row}, {num_objects})\")\n",
    "            except AssertionError:\n",
    "                print(\"Invalid move\")\n",
    "    else:\n",
    "        logging.info(f\"Possible pc actions for this turn: \\n{z.actions(k)}\")\n",
    "        pre = z._rows.copy()\n",
    "        move = rules(z, len(z._rows))\n",
    "        logging.info(f\"Situation pre pc_turn:{pre} post pc_turn:{z._rows} move: {move}\")\n",
    "\n",
    "if my_turn:\n",
    "    print(\"You won!\")\n",
    "else:\n",
    "    print(\"You lost!\")"
   ]
  },
  {
   "cell_type": "markdown",
   "metadata": {},
   "source": [
    "### Task 3.2: An agent using evolved rules"
   ]
  },
  {
   "cell_type": "code",
   "execution_count": 139,
   "metadata": {},
   "outputs": [],
   "source": [
    "def cook_status(state: Nim) -> dict:\n",
    "    cooked = dict()\n",
    "    cooked[\"possible_moves\"] = [\n",
    "        (r, o) for r, c in enumerate(state.rows) for o in range(1, c + 1) if state.k is None or o <= state.k\n",
    "    ]\n",
    "    cooked[\"active_rows_number\"] = sum(o > 0 for o in state.rows)\n",
    "    cooked[\"shortest_row\"] = min((x for x in enumerate(state.rows) if x[1] > 0), key=lambda y: y[1])[0]\n",
    "    cooked[\"longest_row\"] = max((x for x in enumerate(state.rows)), key=lambda y: y[1])[0]\n",
    "    cooked[\"nim_sum\"] = nim_sum(state)   \n",
    "\n",
    "    # Mine\n",
    "    # I take track of several statistics\n",
    "    cont1 = 0   # number of rows with 1 object\n",
    "    cont0 = 0   # number of rows with 0 objects\n",
    "    contN = 0   # number of rows with more than 1 object\n",
    "    for i in range(len(z._rows)):\n",
    "        if z._rows[i] == 1:\n",
    "            cont1 += 1\n",
    "        elif z._rows[i] == 0:\n",
    "            cont0 += 1\n",
    "        else:\n",
    "            contN += 1\n",
    "\n",
    "    cooked['cont1'] = cont1\n",
    "    cooked['cont0'] = cont0\n",
    "    cooked['contN'] = contN\n",
    "    cooked['num_rows'] = len(z._rows)\n",
    "    cooked['cont1%2!=0'] = cont1 % 2 != 0\n",
    "    cooked['contN==1'] = contN == 1\n",
    "    cooked['cont1%2==0'] = cont1 % 2 == 0\n",
    "    cooked['cont1 + cont0'] = cont1 + cont0\n",
    "\n",
    "    # end Mine\n",
    "\n",
    "    brute_force = list()\n",
    "    for m in cooked[\"possible_moves\"]:\n",
    "        tmp = deepcopy(state)\n",
    "        tmp.nimming2(m)\n",
    "        brute_force.append((m, nim_sum(tmp)))\n",
    "    cooked[\"brute_force\"] = brute_force\n",
    "\n",
    "    return cooked"
   ]
  },
  {
   "cell_type": "code",
   "execution_count": 24,
   "metadata": {},
   "outputs": [],
   "source": [
    "def optimal_startegy(state: Nim) -> Nimply:\n",
    "    '''optimal strategy for Nim'''\n",
    "    data = cook_status(state)\n",
    "    return next((bf for bf in data[\"brute_force\"] if bf[1] == 0), random.choice(data[\"brute_force\"]))[0]"
   ]
  },
  {
   "cell_type": "code",
   "execution_count": 32,
   "metadata": {},
   "outputs": [],
   "source": [
    "def make_strategy(genome: dict) -> Callable:\n",
    "    def evolvable(state: Nim) -> Nimply:\n",
    "        data = cook_status(state)\n",
    "\n",
    "        if data['cont1 + cont0'] * genome['a'] >= num_rows * genome['b']:\n",
    "            if data['cont1%2==0'] and data['contN'] == genome['c']:\n",
    "                # then the AI will try to remove the highest number \n",
    "                move = max(data['possible_moves'], key = lambda x: x[1])\n",
    "            elif data['cont1%2!=0'] and data['contN'] == genome['c']: \n",
    "                # then the AI will try to remove the highest number - 1 (if possible)\n",
    "                move_ = max(data['possible_moves'], key = lambda x: x[1])\n",
    "                move = (move_[0], move_[1] - 1 if move_[1] > 1 else move_[1])\n",
    "            else:\n",
    "                # otherwise the AI will remove a random number\n",
    "                move = random.choice(data['possible_moves'])\n",
    "        # else the AI will move randomly\n",
    "        else:        \n",
    "            move = random.choice(data['possible_moves'])\n",
    "\n",
    "        return move #ply\n",
    "\n",
    "    return evolvable"
   ]
  },
  {
   "cell_type": "code",
   "execution_count": 146,
   "metadata": {},
   "outputs": [],
   "source": [
    "NUM_MATCHES = 20\n",
    "NIM_SIZE = 10\n",
    "\n",
    "\n",
    "def evaluate(strategy: Callable, opponent_) -> float:\n",
    "    '''evaluate the strategy against the opponent'''\n",
    "    opponents = (strategy, opponent_)\n",
    "    won = 0\n",
    "\n",
    "    for m in range(NUM_MATCHES):\n",
    "        nim = Nim(NIM_SIZE)\n",
    "        player = 0\n",
    "        while nim:\n",
    "            ply = opponents[player](nim)\n",
    "            nim.nimming2(ply)\n",
    "            player = 1 - player\n",
    "        if player == 1:\n",
    "            won += 1\n",
    "    return won / NUM_MATCHES"
   ]
  },
  {
   "cell_type": "code",
   "execution_count": 85,
   "metadata": {},
   "outputs": [
    {
     "name": "stdout",
     "output_type": "stream",
     "text": [
      "Pure random vs optimal strategy: 0.0%\n"
     ]
    }
   ],
   "source": [
    "# As we can see, the optimal strategy is unbeatable against a random strategy\n",
    "print(f\"Pure random vs optimal strategy: {evaluate(pure_random, optimal_startegy)}%\")"
   ]
  },
  {
   "cell_type": "code",
   "execution_count": 121,
   "metadata": {},
   "outputs": [
    {
     "data": {
      "text/plain": [
       "0.65"
      ]
     },
     "execution_count": 121,
     "metadata": {},
     "output_type": "execute_result"
    }
   ],
   "source": [
    "# My rule based strategy is barely better than the random one\n",
    "evaluate(make_strategy({'a': 1, 'b': 0.5, 'c': 1}), pure_random)"
   ]
  },
  {
   "cell_type": "markdown",
   "metadata": {},
   "source": [
    "So the idea is to parameterise the conditions (rules) inside my rule based agent and then use a GA algorithm to find the optimal parameters"
   ]
  },
  {
   "cell_type": "code",
   "execution_count": 110,
   "metadata": {},
   "outputs": [],
   "source": [
    "Individual = namedtuple(\"Individual\", [\"genome\", \"fitness\"])"
   ]
  },
  {
   "cell_type": "code",
   "execution_count": 90,
   "metadata": {},
   "outputs": [],
   "source": [
    "def fitness(genome, k = None):\n",
    "    '''Fitness function'''\n",
    "    return evaluate(make_strategy({'a': genome[0], 'b': genome[1], 'c': genome[2]}), pure_random)\n",
    "\n",
    "def tournament_with_a_hole(population, tournament_size = 2):\n",
    "    '''Tournament selection with fitness hole'''\n",
    "    if random.random() < 0.3:\n",
    "        return max(random.choices(population, k = tournament_size), key= lambda i: math.fsum(i.genome))\n",
    "    else:\n",
    "        return max(random.choices(population, k = tournament_size), key= lambda i: i.fitness)\n",
    "\n",
    "def mutation_rate(g):\n",
    "    '''Mutation rate function'''\n",
    "    return 1 - g  # more exploration in early generations, more exploitation in later ones\n",
    "\n",
    "def cross_over(g1, g2):\n",
    "    '''Cross-Over function'''\n",
    "    # The idea is to create a new genoma that is made by parts (lists) of the parents' genomes\n",
    "    cut = random.randint(0, 3 - 1)\n",
    "    logging.debug(f\"Cut: {cut}\")\n",
    "    return list(list(g1[:cut]) + list(g2[cut:]))    \n",
    "\n",
    "\n",
    "def mutation(g, search_space):\n",
    "    '''Mutation function'''\n",
    "    # The idea is to sobstitute one gene (a list) with an other from the initial (problem) list (Allele)\n",
    "    point = random.randint(0, 3 - 1)\n",
    "    g = list(g)\n",
    "    g[point] = random.choice(search_space)[point]\n",
    "    return g  "
   ]
  },
  {
   "cell_type": "code",
   "execution_count": 54,
   "metadata": {},
   "outputs": [],
   "source": [
    "# inzialization of the population, search space and parameters\n",
    "offspring_size = 20\n",
    "population_size = 100\n",
    "num_generations = 100\n",
    "\n",
    "population = list()\n",
    "search_space = list()\n",
    "\n",
    "for a in [0.1,0.3,0.5,0.7,0.9,1,1.1,1.3,1.5,1.7,1.9,2]:\n",
    "    for b in [0.1,0.3,0.5,0.7,0.9,1,1.1,1.3,1.5,1.7,1.9,2]:\n",
    "        for c in [0.1,0.3,0.5,0.7,0.9,1,1.1,1.3,1.5,1.7,1.9,2]:\n",
    "            genome = [a,b,c]\n",
    "            search_space.append(genome)\n",
    "            population.append(Individual(genome, fitness(genome, 0)))"
   ]
  },
  {
   "cell_type": "code",
   "execution_count": 55,
   "metadata": {},
   "outputs": [],
   "source": [
    "population.sort(key = lambda i: i.fitness, reverse = True)"
   ]
  },
  {
   "cell_type": "code",
   "execution_count": 56,
   "metadata": {},
   "outputs": [
    {
     "data": {
      "text/plain": [
       "1728"
      ]
     },
     "execution_count": 56,
     "metadata": {},
     "output_type": "execute_result"
    }
   ],
   "source": [
    "len(population)"
   ]
  },
  {
   "cell_type": "code",
   "execution_count": null,
   "metadata": {},
   "outputs": [],
   "source": [
    "# Let's start the evolution!!!\n",
    "for g in range(num_generations):\n",
    "    for i in range(offspring_size):\n",
    "        if random.random() < mutation_rate(population[0].fitness):\n",
    "            p = tournament_with_a_hole(population, 20)\n",
    "            o = mutation(p.genome, search_space)\n",
    "        else:        \n",
    "            p1 = tournament_with_a_hole(population, 20)\n",
    "            p2 = tournament_with_a_hole(population, 20)\n",
    "            logging.debug(f\"p1: {p1}, p2: {p2}\")\n",
    "            o = cross_over(p1.genome, p2.genome)\n",
    "            logging.debug(f\"o: {o}\")\n",
    "        \n",
    "        f = fitness(o)\n",
    "        population.append(Individual(o, f))\n",
    "    \n",
    "    population.sort(key = lambda i: i.fitness, reverse = True)\n",
    "    population = population[:population_size]\n",
    "\n",
    "print(f\"Best genome: {population[0].genome}\")\n",
    "print(f\"Best fitness: {population[0].fitness}\")    \n"
   ]
  },
  {
   "cell_type": "code",
   "execution_count": 104,
   "metadata": {},
   "outputs": [
    {
     "data": {
      "text/plain": [
       "[1.5, 0.3, 0.1]"
      ]
     },
     "execution_count": 104,
     "metadata": {},
     "output_type": "execute_result"
    }
   ],
   "source": [
    "# The Best genome is [1.5, 0.3, 0.1] and the best fitness is 0.95.\n",
    "best_genome = population[0].genome\n",
    "best_genome"
   ]
  },
  {
   "cell_type": "code",
   "execution_count": 108,
   "metadata": {},
   "outputs": [
    {
     "data": {
      "text/plain": [
       "0.8"
      ]
     },
     "execution_count": 108,
     "metadata": {},
     "output_type": "execute_result"
    }
   ],
   "source": [
    "# the result is improved, but not enough to beat the optimal strategy\n",
    "make_strategy({'a': best_genome[0], 'b': best_genome[1], 'c': best_genome[2]}, pure_random)"
   ]
  },
  {
   "cell_type": "markdown",
   "metadata": {},
   "source": [
    "If you would like to play a game against it..."
   ]
  },
  {
   "cell_type": "code",
   "execution_count": 141,
   "metadata": {},
   "outputs": [
    {
     "data": {
      "text/plain": [
       "[1, 3, 5, 7, 9]"
      ]
     },
     "execution_count": 141,
     "metadata": {},
     "output_type": "execute_result"
    }
   ],
   "source": [
    "num_rows = 5\n",
    "k = None\n",
    "z = Nim(num_rows)\n",
    "z._rows"
   ]
  },
  {
   "cell_type": "code",
   "execution_count": 142,
   "metadata": {},
   "outputs": [],
   "source": [
    "my_turn = not random.choice([True,False])"
   ]
  },
  {
   "cell_type": "code",
   "execution_count": 143,
   "metadata": {},
   "outputs": [
    {
     "name": "stderr",
     "output_type": "stream",
     "text": [
      "INFO:root:Situation pre my_turn:[1, 3, 5, 7, 9] post my_turn: [1, 3, 5, 7, 0] move:(4, 9)\n",
      "INFO:root:Possible pc actions for this turn: \n",
      "[(0, 1), (1, 1), (1, 2), (1, 3), (2, 1), (2, 2), (2, 3), (2, 4), (2, 5), (3, 1), (3, 2), (3, 3), (3, 4), (3, 5), (3, 6), (3, 7)]\n",
      "INFO:root:Situation pre pc_turn:[1, 3, 5, 7, 0] post pc_turn:[1, 3, 4, 7, 0] move: (2, 1)\n",
      "INFO:root:Situation pre my_turn:[1, 3, 4, 7, 0] post my_turn: [1, 3, 4, 0, 0] move:(3, 7)\n",
      "INFO:root:Possible pc actions for this turn: \n",
      "[(0, 1), (1, 1), (1, 2), (1, 3), (2, 1), (2, 2), (2, 3), (2, 4)]\n",
      "INFO:root:Situation pre pc_turn:[1, 3, 4, 0, 0] post pc_turn:[1, 0, 4, 0, 0] move: (1, 3)\n"
     ]
    },
    {
     "name": "stdout",
     "output_type": "stream",
     "text": [
      "Invalid move\n"
     ]
    },
    {
     "name": "stderr",
     "output_type": "stream",
     "text": [
      "INFO:root:Situation pre my_turn:[1, 0, 4, 0, 0] post my_turn: [1, 0, 2, 0, 0] move:(2, 2)\n",
      "INFO:root:Possible pc actions for this turn: \n",
      "[(0, 1), (2, 1), (2, 2)]\n",
      "INFO:root:Situation pre pc_turn:[1, 0, 2, 0, 0] post pc_turn:[1, 0, 1, 0, 0] move: (2, 1)\n",
      "INFO:root:Situation pre my_turn:[1, 0, 1, 0, 0] post my_turn: [0, 0, 1, 0, 0] move:(0, 1)\n",
      "INFO:root:Possible pc actions for this turn: \n",
      "[(2, 1)]\n",
      "INFO:root:Situation pre pc_turn:[0, 0, 1, 0, 0] post pc_turn:[0, 0, 0, 0, 0] move: (2, 1)\n"
     ]
    },
    {
     "name": "stdout",
     "output_type": "stream",
     "text": [
      "You lost!\n"
     ]
    }
   ],
   "source": [
    "# Play the game\n",
    "while not z.is_terminal():\n",
    "    my_turn = not my_turn\n",
    "    if my_turn:      \n",
    "        input_validation = False\n",
    "        while input_validation is not True:\n",
    "            try:\n",
    "                pre = z._rows.copy()\n",
    "                row = input(f\"Your turn! Situation:{z._rows} Row (zero based): \")\n",
    "                num_objects = input(f\"Situation:{z._rows} k is {k} Number of objects: \")\n",
    "                assert row != '' and num_objects != ''\n",
    "                assert int(row) in range(len(z._rows))\n",
    "                assert int(num_objects) <= k if k is not None else True\n",
    "                assert int(num_objects) in range(1, z._rows[int(row)] + 1)\n",
    "                z.nimming(int(row), int(num_objects))\n",
    "                input_validation = True\n",
    "                logging.info(f\"Situation pre my_turn:{pre} post my_turn: {z._rows} move:({row}, {num_objects})\")\n",
    "            except AssertionError:\n",
    "                print(\"Invalid move\")\n",
    "    else:\n",
    "        logging.info(f\"Possible pc actions for this turn: \\n{z.actions(k)}\")\n",
    "        pre = z._rows.copy()\n",
    "        move = make_strategy({'a': best_genome[0], 'b': best_genome[1], 'c': best_genome[2]})(z)\n",
    "        \n",
    "        z.nimming2(move)\n",
    "        logging.info(f\"Situation pre pc_turn:{pre} post pc_turn:{z._rows} move: {move}\")\n",
    "\n",
    "if my_turn:\n",
    "    print(\"You won!\")\n",
    "else:\n",
    "    print(\"You lost!\")"
   ]
  },
  {
   "cell_type": "markdown",
   "metadata": {},
   "source": [
    "I let it win ;)"
   ]
  },
  {
   "cell_type": "markdown",
   "metadata": {},
   "source": [
    "### Task 3.3 (a): An agent using minmax (Vanilla)"
   ]
  },
  {
   "cell_type": "code",
   "execution_count": 14,
   "metadata": {},
   "outputs": [],
   "source": [
    "def minmax(state, max_turn):\n",
    "    '''minmax algorithm'''\n",
    "    utils_ = utility(state, max_turn)\n",
    "    if utils_ is not None:\n",
    "        return utils_\n",
    "\n",
    "    possible_new_states_list = possible_new_states(state, k)\n",
    "\n",
    "    if max_turn:\n",
    "        return max(minmax(new_state, max_turn=False) for new_state in possible_new_states_list)\n",
    "    else:\n",
    "        return min(minmax(new_state, max_turn=True) for new_state in possible_new_states_list)\n",
    "\n",
    "def is_terminal(state):\n",
    "    '''check if the state is terminal'''\n",
    "    return sum(state) == 0\n",
    "\n",
    "def utility(state, max_turn):\n",
    "    '''returns the utility of a state'''\n",
    "    if is_terminal(state):\n",
    "        return 1 if not max_turn else -1\n",
    "\n",
    "def possible_new_states(state, k):\n",
    "    '''returns a list of possible new states'''\n",
    "    if k == None:\n",
    "        # if k is not defined, then the player can remove any number of objects from any row\n",
    "        for row, objects in enumerate(state):            \n",
    "            for remaining in range(objects):\n",
    "                yield state[:row] + [remaining,] + state[row + 1 :]\n",
    "    else:\n",
    "        # if k is defined, then the player can remove any number of objects up to k from any row\n",
    "        for row, objects in enumerate(state):            \n",
    "            for remain in range(objects):\n",
    "                if objects - remain <= k:\n",
    "                    yield state[:row] + [remain,] + state[row + 1 :]\n",
    "\n",
    "def minmax_bestmove(state):\n",
    "    '''select the best move'''\n",
    "    for new_state in possible_new_states(state, k):\n",
    "        score = minmax(new_state, False)\n",
    "        if score > 0:\n",
    "            break\n",
    "    \n",
    "    for _, el in enumerate(state):\n",
    "        if abs(state[_] - new_state[_]) > 0:\n",
    "            logging.debug(f\"({_},{state[_] - new_state[_]})\")\n",
    "            return (_ , state[_] - new_state[_])"
   ]
  },
  {
   "cell_type": "markdown",
   "metadata": {},
   "source": [
    "Note: since the vanilla version is quite slow, I suggest you to test it with num_rows=3"
   ]
  },
  {
   "cell_type": "code",
   "execution_count": 18,
   "metadata": {},
   "outputs": [
    {
     "data": {
      "text/plain": [
       "[1, 3, 5]"
      ]
     },
     "execution_count": 18,
     "metadata": {},
     "output_type": "execute_result"
    }
   ],
   "source": [
    "num_rows = 3\n",
    "k = 3\n",
    "z = Nim(num_rows, k)\n",
    "z._rows"
   ]
  },
  {
   "cell_type": "code",
   "execution_count": 19,
   "metadata": {},
   "outputs": [],
   "source": [
    "my_turn = not random.choice([True,False])"
   ]
  },
  {
   "cell_type": "code",
   "execution_count": 20,
   "metadata": {},
   "outputs": [
    {
     "name": "stderr",
     "output_type": "stream",
     "text": [
      "INFO:root:Situation pre my_turn:[1, 3, 5] post my_turn: [1, 1, 5] move:(1, 2)\n",
      "INFO:root:Possible pc actions for this turn: \n",
      "[(0, 1), (1, 1), (2, 1), (2, 2), (2, 3)]\n",
      "INFO:root:Situation pre pc_turn:[1, 1, 5] post pc_turn:[0, 1, 5] move: (0, 1)\n",
      "INFO:root:Situation pre my_turn:[0, 1, 5] post my_turn: [0, 1, 4] move:(2, 1)\n",
      "INFO:root:Possible pc actions for this turn: \n",
      "[(1, 1), (2, 1), (2, 2), (2, 3)]\n",
      "INFO:root:Situation pre pc_turn:[0, 1, 4] post pc_turn:[0, 0, 4] move: (1, 1)\n",
      "INFO:root:Situation pre my_turn:[0, 0, 4] post my_turn: [0, 0, 2] move:(2, 2)\n",
      "INFO:root:Possible pc actions for this turn: \n",
      "[(2, 1), (2, 2)]\n",
      "INFO:root:Yeuch\n",
      "INFO:root:Situation pre pc_turn:[0, 0, 2] post pc_turn:[0, 0, 0] move: (2, 2)\n"
     ]
    },
    {
     "name": "stdout",
     "output_type": "stream",
     "text": [
      "You lost!\n"
     ]
    }
   ],
   "source": [
    "# Play the game\n",
    "while not z.is_terminal():\n",
    "    my_turn = not my_turn\n",
    "    if my_turn:      \n",
    "        input_validation = False\n",
    "        while input_validation is not True:\n",
    "            try:\n",
    "                pre = z._rows.copy()\n",
    "                row = input(f\"Your turn! Situation:{z._rows} Row (zero based): \")\n",
    "                num_objects = input(f\"Situation:{z._rows} k is {k} Number of objects: \")\n",
    "                assert row != '' and num_objects != ''\n",
    "                assert int(row) in range(len(z._rows))\n",
    "                assert int(num_objects) <= k if k is not None else True\n",
    "                assert int(num_objects) in range(1, z._rows[int(row)] + 1)\n",
    "                z.nimming(int(row), int(num_objects))\n",
    "                input_validation = True\n",
    "                logging.info(f\"Situation pre my_turn:{pre} post my_turn: {z._rows} move:({row}, {num_objects})\")\n",
    "            except AssertionError:\n",
    "                print(\"Invalid move\")\n",
    "    else:\n",
    "        logging.info(f\"Possible pc actions for this turn: \\n{z.actions(k)}\")\n",
    "        pre = z._rows.copy()\n",
    "        move = minmax_bestmove(z._rows)\n",
    "        z.nimming(move[0], move[1])\n",
    "        logging.info(f\"Situation pre pc_turn:{pre} post pc_turn:{z._rows} move: {move}\")\n",
    "\n",
    "if my_turn:\n",
    "    print(\"You won!\")\n",
    "else:\n",
    "    print(\"You lost!\")"
   ]
  },
  {
   "cell_type": "markdown",
   "metadata": {},
   "source": [
    "### Task 3.3 (b): An agent using minmax (Alpha-Beta Pruning)"
   ]
  },
  {
   "cell_type": "code",
   "execution_count": 21,
   "metadata": {},
   "outputs": [],
   "source": [
    "def alphabeta_minmax(state, max_turn, alpha = -1, beta = 1):\n",
    "    '''minmax algorithm with alpha beta pruning'''\n",
    "    utils_ = utility(state, max_turn)\n",
    "    if utils_ is not None:\n",
    "        return utils_\n",
    "\n",
    "    possible_new_states_list = possible_new_states(state, k)\n",
    "\n",
    "    child_scores = []\n",
    "    for new_state in possible_new_states_list:\n",
    "        score = alphabeta_minmax(new_state, max_turn = not max_turn, alpha=alpha, beta=beta)\n",
    "        child_scores.append(score)\n",
    "\n",
    "        if max_turn:\n",
    "            alpha = max(alpha, score)\n",
    "        else:\n",
    "            beta = min(beta, score)\n",
    "        # if beta is ever smaller than or equal to alpha, then the it can stop exploring that branch\n",
    "        if beta <= alpha:\n",
    "            break\n",
    "\n",
    "    if max_turn:\n",
    "        return max(child_scores)\n",
    "    else:\n",
    "        return min(child_scores)\n",
    "\n",
    "def is_terminal(state):\n",
    "    '''check if the state is terminal'''\n",
    "    return sum(state) == 0\n",
    "\n",
    "def utility(state, max_turn):\n",
    "    '''returns the utility of a state'''\n",
    "    if is_terminal(state):\n",
    "        return 1 if not max_turn else -1\n",
    "\n",
    "def possible_new_states(state, k):\n",
    "    '''returns a list of possible new states''' \n",
    "    if k == None:\n",
    "        # if k is not defined, then the player can remove any number of objects from any row\n",
    "        for row, objects in enumerate(state):            \n",
    "            for remaining in range(objects):\n",
    "                yield state[:row] + [remaining,] + state[row + 1 :]\n",
    "    else:\n",
    "        # if k is defined, then the player can remove any number of objects up to k from any row\n",
    "        for row, objects in enumerate(state):            \n",
    "            for remain in range(objects):\n",
    "                if objects - remain <= k:\n",
    "                    yield state[:row] + [remain,] + state[row + 1 :]\n",
    "\n",
    "def alphabeta_bestmove(state):\n",
    "    '''select the best move'''\n",
    "    for new_state in possible_new_states(state, k):\n",
    "        score = alphabeta_minmax(new_state, False)\n",
    "        if score > 0:\n",
    "            break\n",
    "    \n",
    "    for _, el in enumerate(state):\n",
    "        if abs(state[_] - new_state[_]) > 0:\n",
    "            logging.debug(f\"({_},{state[_] - new_state[_]})\")\n",
    "            return (_ , state[_] - new_state[_])"
   ]
  },
  {
   "cell_type": "code",
   "execution_count": 22,
   "metadata": {},
   "outputs": [
    {
     "data": {
      "text/plain": [
       "[1, 3, 5, 7, 9]"
      ]
     },
     "execution_count": 22,
     "metadata": {},
     "output_type": "execute_result"
    }
   ],
   "source": [
    "num_rows = 5\n",
    "k = 3\n",
    "z = Nim(num_rows, k)\n",
    "z._rows"
   ]
  },
  {
   "cell_type": "code",
   "execution_count": 23,
   "metadata": {},
   "outputs": [],
   "source": [
    "my_turn = not random.choice([True,False])"
   ]
  },
  {
   "cell_type": "code",
   "execution_count": 25,
   "metadata": {},
   "outputs": [
    {
     "name": "stdout",
     "output_type": "stream",
     "text": [
      "Invalid move\n"
     ]
    },
    {
     "name": "stderr",
     "output_type": "stream",
     "text": [
      "INFO:root:Situation pre my_turn:[1, 3, 5, 7, 9] post my_turn:[1, 3, 5, 7, 6] move:v(4, 3)\n",
      "INFO:root:Possible pc actions for this turn: \n",
      "[(0, 1), (1, 1), (1, 2), (1, 3), (2, 1), (2, 2), (2, 3), (3, 1), (3, 2), (3, 3), (4, 1), (4, 2), (4, 3)]\n",
      "INFO:root:Situation pre pc_turn:[1, 3, 5, 7, 6] post pc_turn:[1, 1, 5, 7, 6] move: (1, 2)\n",
      "INFO:root:Situation pre my_turn:[1, 1, 5, 7, 6] post my_turn:[1, 1, 5, 4, 6] move:v(3, 3)\n",
      "INFO:root:Possible pc actions for this turn: \n",
      "[(0, 1), (1, 1), (2, 1), (2, 2), (2, 3), (3, 1), (3, 2), (3, 3), (4, 1), (4, 2), (4, 3)]\n",
      "INFO:root:Situation pre pc_turn:[1, 1, 5, 4, 6] post pc_turn:[1, 1, 2, 4, 6] move: (2, 3)\n",
      "INFO:root:Situation pre my_turn:[1, 1, 2, 4, 6] post my_turn:[1, 1, 2, 1, 6] move:v(3, 3)\n",
      "INFO:root:Possible pc actions for this turn: \n",
      "[(0, 1), (1, 1), (2, 1), (2, 2), (3, 1), (4, 1), (4, 2), (4, 3)]\n",
      "INFO:root:Situation pre pc_turn:[1, 1, 2, 1, 6] post pc_turn:[0, 1, 2, 1, 6] move: (0, 1)\n",
      "INFO:root:Situation pre my_turn:[0, 1, 2, 1, 6] post my_turn:[0, 1, 2, 1, 3] move:v(4, 3)\n",
      "INFO:root:Possible pc actions for this turn: \n",
      "[(1, 1), (2, 1), (2, 2), (3, 1), (4, 1), (4, 2), (4, 3)]\n",
      "INFO:root:Situation pre pc_turn:[0, 1, 2, 1, 3] post pc_turn:[0, 0, 2, 1, 3] move: (1, 1)\n",
      "INFO:root:Situation pre my_turn:[0, 0, 2, 1, 3] post my_turn:[0, 0, 0, 1, 3] move:v(2, 2)\n",
      "INFO:root:Possible pc actions for this turn: \n",
      "[(3, 1), (4, 1), (4, 2), (4, 3)]\n",
      "INFO:root:Situation pre pc_turn:[0, 0, 0, 1, 3] post pc_turn:[0, 0, 0, 1, 1] move: (4, 2)\n",
      "INFO:root:Situation pre my_turn:[0, 0, 0, 1, 1] post my_turn:[0, 0, 0, 0, 1] move:v(3, 1)\n",
      "INFO:root:Possible pc actions for this turn: \n",
      "[(4, 1)]\n",
      "INFO:root:Yeuch\n",
      "INFO:root:Situation pre pc_turn:[0, 0, 0, 0, 1] post pc_turn:[0, 0, 0, 0, 0] move: (4, 1)\n"
     ]
    },
    {
     "name": "stdout",
     "output_type": "stream",
     "text": [
      "You lost!\n"
     ]
    }
   ],
   "source": [
    "# Play the game\n",
    "while not z.is_terminal():\n",
    "    my_turn = not my_turn\n",
    "    if my_turn:      \n",
    "        input_validation = False\n",
    "        while input_validation is not True:\n",
    "            try:\n",
    "                pre = z._rows.copy()\n",
    "                row = input(f\"Your turn! Situation:{z._rows} Row (zero based): \")\n",
    "                num_objects = input(f\"Situation:{z._rows} k is {k} Number of objects: \")\n",
    "                assert row != '' and num_objects != ''\n",
    "                assert int(row) in range(len(z._rows))\n",
    "                assert int(num_objects) <= k if k is not None else True\n",
    "                assert int(num_objects) in range(1, z._rows[int(row)] + 1)\n",
    "                z.nimming(int(row), int(num_objects))\n",
    "                input_validation = True\n",
    "                logging.info(f\"Situation pre my_turn:{pre} post my_turn:{z._rows} move:v({row}, {num_objects})\")\n",
    "            except AssertionError:\n",
    "                print(\"Invalid move\")\n",
    "    else:\n",
    "        logging.info(f\"Possible pc actions for this turn: \\n{z.actions(k)}\")\n",
    "        pre = z._rows.copy()\n",
    "        move = alphabeta_bestmove(z._rows)\n",
    "        z.nimming(move[0], move[1])\n",
    "        logging.info(f\"Situation pre pc_turn:{pre} post pc_turn:{z._rows} move: {move}\")\n",
    "\n",
    "if my_turn:\n",
    "    print(\"You won!\")\n",
    "else:\n",
    "    print(\"You lost!\")"
   ]
  },
  {
   "cell_type": "markdown",
   "metadata": {},
   "source": [
    "### Task 3.4: An agent using reinforcement learning"
   ]
  },
  {
   "cell_type": "code",
   "execution_count": null,
   "metadata": {},
   "outputs": [],
   "source": []
  }
 ],
 "metadata": {
  "kernelspec": {
   "display_name": "Python 3.10.7 64-bit",
   "language": "python",
   "name": "python3"
  },
  "language_info": {
   "codemirror_mode": {
    "name": "ipython",
    "version": 3
   },
   "file_extension": ".py",
   "mimetype": "text/x-python",
   "name": "python",
   "nbconvert_exporter": "python",
   "pygments_lexer": "ipython3",
   "version": "3.10.7"
  },
  "vscode": {
   "interpreter": {
    "hash": "40f3a4812ee57c40b59d76ee034c57a53ddf77e0e0c42117da421797a4b26df7"
   }
  }
 },
 "nbformat": 4,
 "nbformat_minor": 2
}
