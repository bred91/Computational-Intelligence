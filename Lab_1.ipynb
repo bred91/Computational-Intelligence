{
  "cells": [
    {
      "cell_type": "markdown",
      "metadata": {
        "id": "view-in-github",
        "colab_type": "text"
      },
      "source": [
        "<a href=\"https://colab.research.google.com/github/bred91/Computational_Intelligence_2022-2023/blob/main/Lab_1.ipynb\" target=\"_parent\"><img src=\"https://colab.research.google.com/assets/colab-badge.svg\" alt=\"Open In Colab\"/></a>"
      ]
    },
    {
      "cell_type": "markdown",
      "metadata": {
        "id": "gUd4KfOLmvO9"
      },
      "source": [
        "Raffaele Pane `<raffaele.pane@studenti.polito.it>`  \n",
        "[`https://github.com/bred91/Computational_Intelligence_2022-2023/tree/main/lab1`](https://github.com/bred91/Computational_Intelligence_2022-2023/tree/main/lab1) "
      ]
    },
    {
      "cell_type": "markdown",
      "metadata": {
        "id": "kPzgv21smvPB"
      },
      "source": [
        "# Lab 1: Set Covering\n",
        "\n",
        "First lab + peer review. List this activity in your final report, it will be part of your exam.\n",
        "\n",
        "## Task\n",
        "\n",
        "Given a number $N$ and some lists of integers $P = (L_0, L_1, L_2, ..., L_n)$, \n",
        "determine, if possible, $S = (L_{s_0}, L_{s_1}, L_{s_2}, ..., L_{s_n})$\n",
        "such that each number between $0$ and $N-1$ appears in at least one list\n",
        "\n",
        "$$\\forall n \\in [0, N-1] \\ \\exists i : n \\in L_{s_i}$$\n",
        "\n",
        "and that the total numbers of elements in all $L_{s_i}$ is minimum. \n",
        "\n",
        "## Instructions\n",
        "\n",
        "* Create the directory `lab1` inside the course repo (the one you registered with Andrea)\n",
        "* Put a `README.md` and your solution (all the files, code and auxiliary data if needed)\n",
        "* Use `problem` to generate the problems with different $N$\n",
        "* In the `README.md`, report the the total numbers of elements in $L_{s_i}$ for problem with $N \\in [5, 10, 20, 100, 500, 1000]$ and the total number on $nodes$ visited during the search. Use `seed=42`.\n",
        "* Use `GitHub Issues` to peer review others' lab\n",
        "\n",
        "## Notes\n",
        "\n",
        "* Working in group is not only allowed, but recommended (see: [Ubuntu](https://en.wikipedia.org/wiki/Ubuntu_philosophy) and [Cooperative Learning](https://files.eric.ed.gov/fulltext/EJ1096789.pdf)). Collaborations must be explicitly declared in the `README.md`.\n",
        "* [Yanking](https://www.emacswiki.org/emacs/KillingAndYanking) from the internet is allowed, but sources must be explicitly declared in the `README.md`.\n",
        "\n",
        "**Deadline**\n",
        "\n",
        "* Sunday, October 16th 23:59:59 for the working solution\n",
        "* Sunday, October 23rd 23:59:59 for the peer reviews"
      ]
    },
    {
      "cell_type": "markdown",
      "metadata": {
        "id": "vSiuucqrmvPC"
      },
      "source": [
        "## Solution"
      ]
    },
    {
      "cell_type": "code",
      "execution_count": 1,
      "metadata": {
        "id": "jc6qanxTmvPC"
      },
      "outputs": [],
      "source": [
        "# import\n",
        "import random\n",
        "import numpy as np\n",
        "import heapq\n",
        "from typing import Callable\n",
        "import logging\n",
        "import itertools"
      ]
    },
    {
      "cell_type": "code",
      "execution_count": 2,
      "metadata": {
        "id": "Mg0AZy5kmvPE"
      },
      "outputs": [],
      "source": [
        "class PriorityQueue:\n",
        "    \"\"\"A basic Priority Queue with simple performance optimizations\"\"\"\n",
        "\n",
        "    def __init__(self):\n",
        "        self._data_heap = list()\n",
        "        self._data_set = set()\n",
        "\n",
        "    def __bool__(self):\n",
        "        return bool(self._data_set)\n",
        "\n",
        "    def __contains__(self, item):\n",
        "        return item in self._data_set\n",
        "\n",
        "    def push(self, item, p=None):\n",
        "        assert item not in self, f\"Duplicated element\"\n",
        "        if p is None:\n",
        "            p = len(self._data_set)\n",
        "        self._data_set.add(item)\n",
        "        heapq.heappush(self._data_heap, (p, item))\n",
        "\n",
        "    def pop(self):\n",
        "        p, item = heapq.heappop(self._data_heap)\n",
        "        self._data_set.remove(item)\n",
        "        return item"
      ]
    },
    {
      "cell_type": "code",
      "execution_count": 3,
      "metadata": {
        "id": "vMOONKkGmvPE"
      },
      "outputs": [],
      "source": [
        "def problem(N, seed=None):\n",
        "    \"\"\"Generate a random problem instance\"\"\"\n",
        "    random.seed(seed)\n",
        "    return [\n",
        "        list(set(random.randint(0, N - 1) for n in range(random.randint(N // 5, N // 2))))\n",
        "        for n in range(random.randint(N, N * 5))\n",
        "    ]"
      ]
    },
    {
      "cell_type": "code",
      "execution_count": 4,
      "metadata": {
        "id": "v_DWHwUamvPF"
      },
      "outputs": [],
      "source": [
        "logging.getLogger().setLevel(logging.INFO)"
      ]
    },
    {
      "cell_type": "code",
      "execution_count": 5,
      "metadata": {
        "id": "OekduMmOmvPF"
      },
      "outputs": [],
      "source": [
        "def h1(state,N):\n",
        "    '''Heuristic function: number of elements in the goal state that are not in the current state'''\n",
        "    logging.debug(N - len(state))\n",
        "    return N - len(state)"
      ]
    },
    {
      "cell_type": "code",
      "execution_count": 6,
      "metadata": {
        "id": "W-PphXRQmvPG"
      },
      "outputs": [],
      "source": [
        "def h2(state,N,inter):\n",
        "    '''Heuristic function: number of elements in the goal state that are not in the current state'''\n",
        "    logging.debug(N - len(state))\n",
        "    return (N - len(state)) if inter == 0 else (N - len(state)) * (0.75 + inter)"
      ]
    },
    {
      "cell_type": "markdown",
      "metadata": {
        "id": "pF4Q-z7jmvPG"
      },
      "source": [
        "### A*"
      ]
    },
    {
      "cell_type": "code",
      "execution_count": 7,
      "metadata": {
        "id": "0bQcCFE5mvPG"
      },
      "outputs": [],
      "source": [
        "def a_star_search(\n",
        "    N : int\n",
        "):\n",
        "    frontier = PriorityQueue()\n",
        "    parent_state = dict()\n",
        "    state_cost = dict()  \n",
        "    steps = dict()  \n",
        "    priority_function = lambda state,N: state_cost[state] + h1(state,N) \n",
        "    #priority_function = lambda state,N,inter: state_cost[state] + h2(state,N,inter)\n",
        "\n",
        "    goal = set(range(N))\n",
        "    sorted_all_list = sorted(problem(N, seed=42), key=lambda l: len(l))\n",
        "    all_lists = list(sorted_all_list for sorted_all_list,_ in itertools.groupby(sorted_all_list)) # remove duplicates\n",
        "\n",
        "    state = frozenset()\n",
        "    parent_state[state] = None\n",
        "    state_cost[state] = 0\n",
        "    steps[state] = []\n",
        "    \n",
        "\n",
        "    while state is not None and goal != state:\n",
        "        for a_list in all_lists:\n",
        "            new_state = state \n",
        "            new_state |= set(a_list)            \n",
        "            cost = len(a_list)\n",
        "            inter = state.intersection(set(a_list))\n",
        "            logging.debug(f\"a: {a_list} , state: {state} , new_state: {new_state} , intersection: {inter}\")\n",
        "\n",
        "            if new_state not in state_cost and new_state not in frontier:\n",
        "                parent_state[new_state] = state\n",
        "                state_cost[new_state] = state_cost[state] + cost\n",
        "                steps[new_state] = {new_state: a_list } \n",
        "                frontier.push(new_state, p = priority_function(new_state,N,))\n",
        "                #frontier.push(new_state, p = priority_function(new_state,N,len(inter)))\n",
        "                logging.debug(f\"Added new node {a_list} to frontier (cost={state_cost[new_state]})\")\n",
        "            elif new_state in frontier and state_cost[new_state] > state_cost[state] + cost:\n",
        "                old_cost = state_cost[new_state]\n",
        "                parent_state[new_state] = state\n",
        "                state_cost[new_state] = state_cost[state] + cost\n",
        "                steps[new_state] = {new_state: a_list } \n",
        "                logging.debug(f\"Updated node {a_list} cost in frontier: {old_cost} -> {state_cost[new_state]}\")\n",
        "        if frontier:\n",
        "            state = frontier.pop()\n",
        "        else:\n",
        "            state = None\n",
        "\n",
        "    path = list() \n",
        "    path_steps = list()   \n",
        "    s = state\n",
        "    \n",
        "    while s:\n",
        "        path.append(list(s))\n",
        "        path_steps.append(list(steps[s].values())[0])\n",
        "        logging.debug(f\"Path: {path}, State: {s}, Steps: {path_steps}\")        \n",
        "        s = parent_state[s]\n",
        "    \n",
        "    logging.info(f\"A* solution for N={N}: w={sum(len(_) for _ in path_steps)} (bloat={(sum(len(_) for _ in path_steps)-N)/N*100:.0f}%)\\n\"+\n",
        "    f\"Found a solution in {len(path):,} steps; visited {len(state_cost):,} states\")\n",
        "\n",
        "    logging.debug(f\"Steps: \\n{list(reversed(path_steps))}\")\n",
        "    logging.debug(f\"States: \\n{list(reversed(path))}\")"
      ]
    },
    {
      "cell_type": "markdown",
      "metadata": {
        "id": "PPul-_rdmvPH"
      },
      "source": [
        "For higher N, it explodes."
      ]
    },
    {
      "cell_type": "code",
      "execution_count": 8,
      "metadata": {
        "colab": {
          "base_uri": "https://localhost:8080/"
        },
        "id": "Lf87UWnMmvPH",
        "outputId": "d1e93796-b10c-4d51-ab63-f08ab8be40cc"
      },
      "outputs": [
        {
          "output_type": "stream",
          "name": "stderr",
          "text": [
            "INFO:root:A* solution for N=5: w=5 (bloat=0%)\n",
            "Found a solution in 3 steps; visited 32 states\n",
            "INFO:root:A* solution for N=10: w=10 (bloat=0%)\n",
            "Found a solution in 3 steps; visited 692 states\n",
            "INFO:root:A* solution for N=20: w=23 (bloat=15%)\n",
            "Found a solution in 5 steps; visited 15,595 states\n",
            "INFO:root:A* solution for N=30: w=36 (bloat=20%)\n",
            "Found a solution in 5 steps; visited 3,121,974 states\n"
          ]
        }
      ],
      "source": [
        "for N in [5,10,20,30]:\n",
        "    a_star_search(N)"
      ]
    },
    {
      "cell_type": "code",
      "source": [],
      "metadata": {
        "id": "1upAKrO8oSuW"
      },
      "execution_count": 8,
      "outputs": []
    }
  ],
  "metadata": {
    "kernelspec": {
      "display_name": "Python 3.10.7 ('test-02-fRofeKyW-py3.10')",
      "language": "python",
      "name": "python3"
    },
    "language_info": {
      "codemirror_mode": {
        "name": "ipython",
        "version": 3
      },
      "file_extension": ".py",
      "mimetype": "text/x-python",
      "name": "python",
      "nbconvert_exporter": "python",
      "pygments_lexer": "ipython3",
      "version": "3.10.7"
    },
    "orig_nbformat": 4,
    "vscode": {
      "interpreter": {
        "hash": "50c025f704eb4f839c715c5dadc6e24c5af333b57d8dcf97da744f95727ffb45"
      }
    },
    "colab": {
      "provenance": [],
      "collapsed_sections": [],
      "include_colab_link": true
    }
  },
  "nbformat": 4,
  "nbformat_minor": 0
}