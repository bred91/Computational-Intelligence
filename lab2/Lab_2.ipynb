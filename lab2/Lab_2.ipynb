{
  "cells": [
    {
      "cell_type": "markdown",
      "metadata": {
        "id": "gUd4KfOLmvO9"
      },
      "source": [
        "Raffaele Pane `<raffaele.pane@studenti.polito.it>`  \n",
        "[`https://github.com/bred91/Computational_Intelligence_2022-2023/tree/main/lab2`](https://github.com/bred91/Computational_Intelligence_2022-2023/tree/main/lab2) "
      ]
    },
    {
      "cell_type": "markdown",
      "metadata": {
        "id": "kPzgv21smvPB"
      },
      "source": [
        "# Lab 2: Set Covering with an Evolutionary Algorithm\n",
        "\n",
        "First lab + peer review. List this activity in your final report, it will be part of your exam.\n",
        "\n",
        "## Task\n",
        "\n",
        "Given a number $N$ and some lists of integers $P = (L_0, L_1, L_2, ..., L_n)$, \n",
        "determine, if possible, $S = (L_{s_0}, L_{s_1}, L_{s_2}, ..., L_{s_n})$\n",
        "such that each number between $0$ and $N-1$ appears in at least one list\n",
        "\n",
        "$$\\forall n \\in [0, N-1] \\ \\exists i : n \\in L_{s_i}$$\n",
        "\n",
        "and that the total numbers of elements in all $L_{s_i}$ is minimum. "
      ]
    },
    {
      "cell_type": "markdown",
      "metadata": {
        "id": "vSiuucqrmvPC"
      },
      "source": [
        "## Solution"
      ]
    },
    {
      "cell_type": "code",
      "execution_count": 1,
      "metadata": {
        "id": "jc6qanxTmvPC"
      },
      "outputs": [],
      "source": [
        "# import\n",
        "import random\n",
        "import numpy as np\n",
        "import logging\n",
        "import itertools\n",
        "import matplotlib.pyplot as plt\n",
        "from collections import namedtuple\n",
        "import time"
      ]
    },
    {
      "cell_type": "code",
      "execution_count": 2,
      "metadata": {},
      "outputs": [],
      "source": [
        "logging.getLogger().setLevel(logging.INFO)"
      ]
    },
    {
      "cell_type": "markdown",
      "metadata": {},
      "source": [
        "### Preprocessing and Problem creation"
      ]
    },
    {
      "cell_type": "code",
      "execution_count": 3,
      "metadata": {},
      "outputs": [],
      "source": [
        "def problem(N, seed=None):\n",
        "    \"\"\"Generate a random problem instance\"\"\"\n",
        "    random.seed(seed)\n",
        "    return [\n",
        "        list(set(random.randint(0, N - 1) for n in range(random.randint(N // 5, N // 2))))\n",
        "        for n in range(random.randint(N, N * 5))\n",
        "    ]\n",
        "\n",
        "def preprocessing (N):\n",
        "    '''Preprocessing to get all possible lists and sort them'''\n",
        "    sorted_all_list = sorted(problem(N, seed=42), key=lambda l: len(l))\n",
        "    all_lists = list(sorted_all_list for sorted_all_list, _ in itertools.groupby(sorted_all_list)) # remove duplicates\n",
        "    return all_lists"
      ]
    },
    {
      "cell_type": "markdown",
      "metadata": {},
      "source": [
        "### GA Functions"
      ]
    },
    {
      "cell_type": "code",
      "execution_count": 4,
      "metadata": {},
      "outputs": [],
      "source": [
        "Individual = namedtuple(\"Individual\", [\"genome\", \"fitness\"])\n",
        "\n",
        "\n",
        "def fitness(genome):\n",
        "    '''Fitness function'''\n",
        "    # The idea is to weight the fitness by the coverage of the genoma minus the length/4 of the genoma\n",
        "    cov = set()\n",
        "    cont = 0\n",
        "    logging.debug(f\"Genome: {genome}\")\n",
        "    for l in genome:\n",
        "        logging.debug(f\"List: {l}\")        \n",
        "        cont += len(l)/4        \n",
        "        cov = cov.union(set(l))\n",
        "        logging.debug(f\"cov: {cov}\")\n",
        "    \n",
        "    logging.debug(f\"Cont: {cont}\")        \n",
        "    return len(cov) - cont   \n",
        "\n",
        "def tournament(population, tournament_size = 2):\n",
        "    '''Tournament selection'''\n",
        "    return max(random.choices(population, k = tournament_size), key= lambda i: i.fitness)\n",
        "\n",
        "\n",
        "def cross_over(g1, g2, N):\n",
        "    '''Cross-Over function'''\n",
        "    # The idea is to create a new genoma that is made by parts (lists) of the parents' genomes\n",
        "    cut = random.randint(0, N - 1)\n",
        "    logging.debug(f\"Cut: {cut}\")\n",
        "    return tuple(list(g1[:cut]) + list(g2[cut:]))    \n",
        "\n",
        "\n",
        "def mutation(g, N, all_lists):\n",
        "    '''Mutation function'''\n",
        "    # The idea is to sobstitute one gene (a list) with an other from the initial (problem) list (Allele)\n",
        "    point = random.randint(0, N - 1)\n",
        "    g = list(g)\n",
        "    g[point] = random.choice(all_lists)\n",
        "    return g    "
      ]
    },
    {
      "cell_type": "markdown",
      "metadata": {},
      "source": [
        " The idea is to create a popolation of individuals in the form of a list of tuples (genome, fitness). <br>\n",
        " Each genome is a list of N lists (genes), 1 is a list of integers and the other N-1 are empty lists.\n"
      ]
    },
    {
      "cell_type": "code",
      "execution_count": 5,
      "metadata": {},
      "outputs": [],
      "source": [
        "def initialize_population(N):\n",
        "    '''Creation of the population'''\n",
        "    population = list()\n",
        "\n",
        "    lista = preprocessing(N)\n",
        "\n",
        "    # list of empty lists\n",
        "    listo = []\n",
        "    for _ in range(N-1):\n",
        "        listo.append(list())\n",
        "    listo\n",
        "\n",
        "    for gene in lista:\n",
        "        genome = listo.copy()\n",
        "        # add the single gene\n",
        "        genome.append(gene)\n",
        "        logging.debug(f\"Genome pre: {genome}\")\n",
        "        # let it shuffle\n",
        "        random.shuffle(genome)\n",
        "        logging.debug(f\"Genome post: {genome}\")\n",
        "        population.append(Individual(tuple(genome), fitness(genome)))\n",
        "    # The idea is to create a popolation of individuals in the form of a list of tuples (genome, fitness)\n",
        "    # Each genome is a list of N lists (genes), 1 is a list of integers and the other N-1 are empty lists\n",
        "    \n",
        "    logging.info(f\"init: pop_size={len(population)}; max={max(population, key=lambda i: i.fitness)[1]}\")\n",
        "    return population, lista"
      ]
    },
    {
      "cell_type": "code",
      "execution_count": 6,
      "metadata": {},
      "outputs": [],
      "source": [
        "def GA_algh(population, all_lists, N, shutdown = False ):\n",
        "    '''Genetic Algorithm'''\n",
        "    fitness_log = [(0, i.fitness) for i in population]\n",
        "\n",
        "    for g in range(NUM_GENERATIONS):\n",
        "        offspring = list()\n",
        "        for i in range(OFFSPRING_SIZE):\n",
        "            if random.random() < 0.3:\n",
        "                p = tournament(population)\n",
        "                o = mutation(p.genome, N, all_lists)\n",
        "            else:        \n",
        "                p1 = tournament(population, 20)\n",
        "                p2 = tournament(population, 20)\n",
        "                logging.debug(f\"p1: {p1}, p2: {p2}\")\n",
        "                o = cross_over(p1.genome, p2.genome, N)\n",
        "                logging.debug(f\"o: {o}\")\n",
        "\n",
        "            f = fitness(o)\n",
        "            fitness_log.append((g + 1, f))\n",
        "            offspring.append(Individual(o, f))\n",
        "            \n",
        "        population += offspring\n",
        "        population = sorted(population, key=lambda i: i.fitness, reverse=True)[:POPULATION_SIZE]\n",
        "\n",
        "    if not shutdown:    \n",
        "        logging.info(f\"Best solution: {population[0].genome}\")\n",
        "    logging.info(f\"W: {sum(len(_) for _ in population[0].genome)} (bloat = {(sum(len(_) for _ in population[0].genome)-N)/N*100:.0f}%)\")"
      ]
    },
    {
      "cell_type": "code",
      "execution_count": 7,
      "metadata": {},
      "outputs": [],
      "source": [
        "#PROBLEM_SIZE = 500\n",
        "POPULATION_SIZE = 5\n",
        "OFFSPRING_SIZE = 20\n",
        "# N = PROBLEM_SIZE\n",
        "NUM_GENERATIONS = 100"
      ]
    },
    {
      "cell_type": "markdown",
      "metadata": {},
      "source": [
        "### Execution"
      ]
    },
    {
      "cell_type": "code",
      "execution_count": 10,
      "metadata": {},
      "outputs": [
        {
          "name": "stderr",
          "output_type": "stream",
          "text": [
            "INFO:root:N = 5\n",
            "INFO:root:init: pop_size=21; max=1.5\n",
            "INFO:root:Best solution: [[0, 1], [], [], [3], [2, 4]]\n",
            "INFO:root:W: 5 (bloat = 0%)\n",
            "INFO:root:Time: 0.13698577880859375 s\n",
            "\n",
            "\n",
            "INFO:root:N = 10\n",
            "INFO:root:init: pop_size=49; max=3.75\n",
            "INFO:root:Best solution: [[], [], [], [8, 9, 3, 6], [2, 5, 7], [], [8, 0, 4, 1], [6], [], []]\n",
            "INFO:root:W: 12 (bloat = 20%)\n",
            "INFO:root:Time: 0.19199585914611816 s\n",
            "\n",
            "\n",
            "INFO:root:N = 50\n",
            "INFO:root:init: pop_size=213; max=16.5\n",
            "INFO:root:Best solution: [[], [], [], [], [], [], [], [], [], [], [], [], [32, 2, 34, 5, 38, 6, 40, 41, 42, 10, 44, 39, 15, 49, 22, 23, 26], [], [], [], [], [], [], [], [], [], [], [], [], [], [], [], [0, 1, 4, 6, 11, 12, 13, 17, 20, 23, 24, 25, 27, 28, 34, 36, 37, 39, 45, 47, 48], [], [], [], [], [3, 8, 11, 13, 20, 21, 22, 24, 29, 30, 33, 34, 35, 41, 42, 43, 45, 46, 47, 49], [], [], [], [], [36, 38, 7, 10, 44, 47, 18, 19, 28, 29], [], [], [], [], [], [], [], [], [], [], []]\n",
            "INFO:root:W: 68 (bloat = 36%)\n",
            "INFO:root:Time: 1.062014102935791 s\n",
            "\n",
            "\n",
            "INFO:root:N = 100\n",
            "INFO:root:init: pop_size=427; max=32.25\n",
            "INFO:root:Best solution: [[], [], [], [], [], [], [], [], [], [], [], [], [], [], [], [], [], [], [], [], [], [], [], [], [], [], [], [], [1, 3, 10, 16, 17, 19, 24, 26, 28, 29, 39, 40, 43, 45, 47, 50, 51, 53, 54, 56, 57, 59, 60, 63, 66, 68, 70, 71, 73, 75, 84, 87, 88, 89, 92, 94, 95, 96, 97, 98, 99], [], [], [], [], [], [], [], [], [], [], [], [], [], [], [], [], [], [], [], [], [2, 4, 6, 7, 14, 18, 19, 27, 35, 40, 46, 48, 55, 58, 60, 62, 69, 72, 76, 77, 81, 89, 94, 99], [], [5, 9, 10, 13, 14, 15, 19, 22, 23, 28, 36, 42, 45, 46, 54, 67, 76, 77, 78, 85, 86, 87], [], [], [], [], [], [], [], [], [], [], [], [], [], [], [], [], [], [], [], [], [], [], [], [], [], [], [], [], [], [], [], [], [], [], [], [], [], [4, 9, 10, 12, 15, 25, 29, 33, 35, 37, 42, 45, 46, 56, 64, 65, 69, 82, 86], [], [], [], [], [], [0, 1, 10, 17, 20, 24, 28, 29, 30, 31, 33, 34, 36, 37, 38, 44, 47, 48, 49, 50, 52, 54, 55, 60, 61, 62, 66, 68, 70, 71, 76, 78, 80, 82, 83, 87, 88, 91, 94, 95, 96, 97, 98], [], [], [], []]\n",
            "INFO:root:W: 149 (bloat = 49%)\n",
            "INFO:root:Time: 2.62300181388855 s\n",
            "\n",
            "\n"
          ]
        }
      ],
      "source": [
        "for n in [5, 10, 50, 100]:\n",
        "    logging.info(f\"N = {n}\")\n",
        "    population, all_lists = initialize_population(n)\n",
        "    logging.debug(population[0])\n",
        "\n",
        "    start = time.time()\n",
        "    GA_algh(population, all_lists, n)\n",
        "    end = time.time()\n",
        "    logging.info(f\"Time: {end - start} s\\n\\n\")"
      ]
    },
    {
      "cell_type": "code",
      "execution_count": 11,
      "metadata": {},
      "outputs": [
        {
          "name": "stderr",
          "output_type": "stream",
          "text": [
            "INFO:root:N = 200\n",
            "INFO:root:init: pop_size=854; max=65.25\n",
            "INFO:root:W: 318 (bloat = 59%)\n",
            "INFO:root:Time: 8.127999782562256 s\n",
            "\n",
            "\n",
            "INFO:root:N = 500\n",
            "INFO:root:init: pop_size=1809; max=156.0\n",
            "INFO:root:W: 679 (bloat = 36%)\n",
            "INFO:root:Time: 46.81200408935547 s\n",
            "\n",
            "\n",
            "INFO:root:N = 1000\n",
            "INFO:root:init: pop_size=3619; max=306.75\n",
            "INFO:root:W: 1401 (bloat = 40%)\n",
            "INFO:root:Time: 173.43124175071716 s\n",
            "\n",
            "\n"
          ]
        }
      ],
      "source": [
        "for n in [200, 500, 1000]:\n",
        "    logging.info(f\"N = {n}\")\n",
        "    population, all_lists = initialize_population(n)\n",
        "    logging.debug(population[0])\n",
        "\n",
        "    start = time.time()\n",
        "    GA_algh(population, all_lists, n, shutdown = True)\n",
        "    end = time.time()\n",
        "    logging.info(f\"Time: {end - start} s\\n\\n\")"
      ]
    }
  ],
  "metadata": {
    "colab": {
      "collapsed_sections": [],
      "provenance": []
    },
    "kernelspec": {
      "display_name": "Python 3.10.7 64-bit",
      "language": "python",
      "name": "python3"
    },
    "language_info": {
      "codemirror_mode": {
        "name": "ipython",
        "version": 3
      },
      "file_extension": ".py",
      "mimetype": "text/x-python",
      "name": "python",
      "nbconvert_exporter": "python",
      "pygments_lexer": "ipython3",
      "version": "3.10.7"
    },
    "orig_nbformat": 4,
    "vscode": {
      "interpreter": {
        "hash": "40f3a4812ee57c40b59d76ee034c57a53ddf77e0e0c42117da421797a4b26df7"
      }
    }
  },
  "nbformat": 4,
  "nbformat_minor": 0
}
