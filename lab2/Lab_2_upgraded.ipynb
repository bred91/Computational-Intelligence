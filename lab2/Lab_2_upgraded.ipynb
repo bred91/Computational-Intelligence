{
  "cells": [
    {
      "cell_type": "markdown",
      "metadata": {
        "id": "gUd4KfOLmvO9"
      },
      "source": [
        "Raffaele Pane `<raffaele.pane@studenti.polito.it>`  \n",
        "[`https://github.com/bred91/Computational_Intelligence_2022-2023/tree/main/lab2`](https://github.com/bred91/Computational_Intelligence_2022-2023/tree/main/lab2) "
      ]
    },
    {
      "cell_type": "markdown",
      "metadata": {
        "id": "kPzgv21smvPB"
      },
      "source": [
        "# Lab 2: Set Covering with an Evolutionary Algorithm\n",
        "\n",
        "First lab + peer review. List this activity in your final report, it will be part of your exam.\n",
        "\n",
        "## Task\n",
        "\n",
        "Given a number $N$ and some lists of integers $P = (L_0, L_1, L_2, ..., L_n)$, \n",
        "determine, if possible, $S = (L_{s_0}, L_{s_1}, L_{s_2}, ..., L_{s_n})$\n",
        "such that each number between $0$ and $N-1$ appears in at least one list\n",
        "\n",
        "$$\\forall n \\in [0, N-1] \\ \\exists i : n \\in L_{s_i}$$\n",
        "\n",
        "and that the total numbers of elements in all $L_{s_i}$ is minimum. "
      ]
    },
    {
      "cell_type": "markdown",
      "metadata": {
        "id": "vSiuucqrmvPC"
      },
      "source": [
        "## Solution"
      ]
    },
    {
      "cell_type": "code",
      "execution_count": 1,
      "metadata": {
        "id": "jc6qanxTmvPC"
      },
      "outputs": [],
      "source": [
        "# import\n",
        "import random\n",
        "import numpy as np\n",
        "import logging\n",
        "import itertools\n",
        "import matplotlib.pyplot as plt\n",
        "from collections import namedtuple\n",
        "import time"
      ]
    },
    {
      "cell_type": "code",
      "execution_count": 2,
      "metadata": {},
      "outputs": [],
      "source": [
        "logging.getLogger().setLevel(logging.INFO)"
      ]
    },
    {
      "cell_type": "markdown",
      "metadata": {},
      "source": [
        "### Preprocessing and Problem creation"
      ]
    },
    {
      "cell_type": "markdown",
      "metadata": {},
      "source": [
        "Call Counter annotation for fitness functions"
      ]
    },
    {
      "cell_type": "code",
      "execution_count": 72,
      "metadata": {},
      "outputs": [],
      "source": [
        "__CALLS__ = dict()\n",
        "\n",
        "\n",
        "def CallCounter(fn):\n",
        "    \"\"\"Annotation @CallCounter\"\"\"\n",
        "    assert fn.__name__ not in __CALLS__, f\"Function '{fn.__name__}' already listed in __CALLS__\"\n",
        "    __CALLS__[fn.__name__] = 0\n",
        "    logging.debug(f\"CallCounter: Counting __CALLS__['{fn.__name__}'] ({fn})\")\n",
        "\n",
        "    def call_count(*args, **kwargs):\n",
        "        __CALLS__[fn.__name__] += 1\n",
        "        return fn(*args, **kwargs)\n",
        "\n",
        "    return call_count"
      ]
    },
    {
      "cell_type": "code",
      "execution_count": 73,
      "metadata": {},
      "outputs": [],
      "source": [
        "def problem(N, seed=None):\n",
        "    \"\"\"Generate a random problem instance\"\"\"\n",
        "    random.seed(seed)\n",
        "    return [\n",
        "        list(set(random.randint(0, N - 1) for n in range(random.randint(N // 5, N // 2))))\n",
        "        for n in range(random.randint(N, N * 5))\n",
        "    ]\n",
        "\n",
        "def preprocessing (N):\n",
        "    '''Preprocessing to get all possible lists and sort them'''\n",
        "    sorted_all_list = sorted(problem(N, seed=42), key=lambda l: len(l))\n",
        "    all_lists = list(sorted_all_list for sorted_all_list, _ in itertools.groupby(sorted_all_list)) # remove duplicates\n",
        "    return all_lists"
      ]
    },
    {
      "cell_type": "markdown",
      "metadata": {},
      "source": [
        "### GA Functions"
      ]
    },
    {
      "cell_type": "code",
      "execution_count": 74,
      "metadata": {},
      "outputs": [],
      "source": [
        "Individual = namedtuple(\"Individual\", [\"genome\", \"fitness\"])\n",
        "\n",
        "\n",
        "@CallCounter\n",
        "def fitness(genome,N):\n",
        "    '''Fitness function'''\n",
        "    # The idea is to weight the fitness by a couple made by the coverage of the genoma and the weight of the lists\n",
        "    cov = set()\n",
        "    cont = 0\n",
        "    logging.debug(f\"Genome: {genome}\")\n",
        "    for l in genome:\n",
        "        logging.debug(f\"List: {l}\")  \n",
        "        cont += len(l)     \n",
        "        cov = cov.union(set(l))\n",
        "        logging.debug(f\"cov: {cov}\")\n",
        "    \n",
        "    logging.debug(f\"Cont: {cont}\")        \n",
        "    return (len(cov) , - (cont-N)/N*100) # (coverage, -w)\n",
        "\n",
        "def tournament(population, tournament_size = 2):\n",
        "    '''Tournament selection'''\n",
        "    return max(random.choices(population, k = tournament_size), key= lambda i: i.fitness)\n",
        "\n",
        "\n",
        "def cross_over(g1, g2, N):\n",
        "    '''Cross-Over function'''\n",
        "    # The idea is to create a new genoma that is made by parts (lists) of the parents' genomes\n",
        "    cut = random.randint(0, N - 1)\n",
        "    logging.debug(f\"Cut: {cut}\")\n",
        "    return tuple(list(g1[:cut]) + list(g2[cut:]))    \n",
        "\n",
        "\n",
        "def mutation(g, N, all_lists):\n",
        "    '''Mutation function'''\n",
        "    # The idea is to sobstitute one gene (a list) with an other from the initial (problem) list (Allele)\n",
        "    point = random.randint(0, N - 1)\n",
        "    g = list(g)\n",
        "    g[point] = random.choice(all_lists)\n",
        "    return g  "
      ]
    },
    {
      "cell_type": "markdown",
      "metadata": {},
      "source": [
        " The idea is to create a popolation of individuals in the form of a list of tuples (genome, fitness). <br>\n",
        " Each genome is a list of N lists (genes), 1 is a list of integers and the other N-1 are empty lists.\n"
      ]
    },
    {
      "cell_type": "code",
      "execution_count": 67,
      "metadata": {},
      "outputs": [],
      "source": [
        "def initialize_population(N):\n",
        "    '''Creation of the population'''\n",
        "    population = list()\n",
        "\n",
        "    lista = preprocessing(N)\n",
        "\n",
        "    # list of empty lists\n",
        "    listo = []\n",
        "    for _ in range(N-1):\n",
        "        listo.append(list())\n",
        "    listo\n",
        "\n",
        "    for gene in lista:\n",
        "        genome = listo.copy()\n",
        "        # add the single gene\n",
        "        genome.append(gene)\n",
        "        logging.debug(f\"Genome pre: {genome}\")\n",
        "        # let it shuffle\n",
        "        random.shuffle(genome)\n",
        "        logging.debug(f\"Genome post: {genome}\")\n",
        "        population.append(Individual(tuple(genome), fitness(genome,N)))\n",
        "    # The idea is to create a popolation of individuals in the form of a list of tuples (genome, fitness)\n",
        "    # Each genome is a list of N lists (genes), 1 is a list of integers and the other N-1 are empty lists\n",
        "    \n",
        "    logging.info(f\"init: pop_size={len(population)}; max={max(population, key=lambda i: i.fitness)[1]}\")\n",
        "    return population, lista"
      ]
    },
    {
      "cell_type": "code",
      "execution_count": 7,
      "metadata": {},
      "outputs": [],
      "source": [
        "def GA_algh(population, all_lists, N, num_GENERATIONS, offspring_SIZE, population_SIZE,  shutdown = False ):\n",
        "    '''Genetic Algorithm'''\n",
        "    fitness_log = [(0, i.fitness) for i in population]\n",
        "\n",
        "    for g in range(num_GENERATIONS):\n",
        "        \n",
        "        offspring = list()\n",
        "        for i in range(offspring_SIZE):\n",
        "            if random.random() < 0.3:\n",
        "                p = tournament(population)\n",
        "                o = mutation(p.genome, N, all_lists)\n",
        "            else:        \n",
        "                p1 = tournament(population, 20)\n",
        "                p2 = tournament(population, 20)\n",
        "                logging.debug(f\"p1: {p1}, p2: {p2}\")\n",
        "                o = cross_over(p1.genome, p2.genome, N)\n",
        "                logging.debug(f\"o: {o}\")\n",
        "\n",
        "            f = fitness(o,N)\n",
        "            fitness_log.append((g + 1, f))\n",
        "            offspring.append(Individual(o, f))\n",
        "            \n",
        "        population += offspring                     # first sorted by coverage, then by -w\n",
        "        population = sorted(population, key=lambda t: (t.fitness[0], t.fitness[1]), reverse=True)[:population_SIZE]      \n",
        "\n",
        "    if not shutdown:    \n",
        "        logging.info(f\"Best solution, genoma: {population[0].genome}\")\n",
        "    logging.info(f\"Best solution, fitness: {population[0].fitness}\")\n",
        "    logging.info(f\"Best solution, coverage: {len(set().union(*population[0].genome))}\")\n",
        "    logging.info(f\"W: {sum(len(_) for _ in population[0].genome)} (bloat = {(sum(len(_) for _ in population[0].genome)-N)/N*100:.0f}%)\")"
      ]
    },
    {
      "cell_type": "markdown",
      "metadata": {},
      "source": [
        "### Execution"
      ]
    },
    {
      "cell_type": "code",
      "execution_count": 8,
      "metadata": {},
      "outputs": [],
      "source": [
        "last = 0"
      ]
    },
    {
      "cell_type": "markdown",
      "metadata": {},
      "source": [
        "5 , 10 , 20"
      ]
    },
    {
      "cell_type": "code",
      "execution_count": 40,
      "metadata": {},
      "outputs": [
        {
          "name": "stderr",
          "output_type": "stream",
          "text": [
            "INFO:root:N = 5\n",
            "INFO:root:init: pop_size=21; max=(2, 60.0)\n",
            "INFO:root:Best solution, genoma: [[0, 1], [], [], [3], [2, 4]]\n",
            "INFO:root:Best solution, fitness: (5, 0.0)\n",
            "INFO:root:Best solution, coverage: 5\n",
            "INFO:root:W: 5 (bloat = 0%)\n",
            "INFO:root:Time: 0.30500292778015137 s\n",
            "INFO:root:Call count: 2021\n",
            "\n",
            "\n",
            "INFO:root:N = 10\n",
            "INFO:root:init: pop_size=49; max=(5, 50.0)\n",
            "INFO:root:Best solution, genoma: [[4, 5, 6], [], [], [8, 9, 3, 6], [2, 5, 7], [], [0, 1], [], [], []]\n",
            "INFO:root:Best solution, fitness: (10, -20.0)\n",
            "INFO:root:Best solution, coverage: 10\n",
            "INFO:root:W: 12 (bloat = 20%)\n",
            "INFO:root:Time: 0.30899906158447266 s\n",
            "INFO:root:Call count: 2049\n",
            "\n",
            "\n",
            "INFO:root:N = 20\n",
            "INFO:root:init: pop_size=34; max=(9, 55.00000000000001)\n",
            "INFO:root:Best solution, genoma: [[], [], [18, 2, 15], [], [3, 5, 6, 7, 8, 11, 12, 14], [], [0, 1, 3, 7, 9, 10, 11, 15], [], [], [], [], [], [], [], [], [], [], [], [4, 5, 8, 13, 15, 16, 17, 19], []]\n",
            "INFO:root:Best solution, fitness: (20, -35.0)\n",
            "INFO:root:Best solution, coverage: 20\n",
            "INFO:root:W: 27 (bloat = 35%)\n",
            "INFO:root:Time: 0.8840024471282959 s\n",
            "INFO:root:Call count: 4034\n",
            "\n",
            "\n"
          ]
        }
      ],
      "source": [
        "for n in [5, 10, 20]:    \n",
        "    population_SIZE = 5\n",
        "    offspring_SIZE = 20\n",
        "\n",
        "    if n in [5, 10]:        \n",
        "        num_GENERATIONS = 100\n",
        "    else:\n",
        "        num_GENERATIONS = 200\n",
        "\n",
        "    logging.info(f\"N = {n}\")\n",
        "    population, all_lists = initialize_population(n)\n",
        "    logging.debug(population[0])\n",
        "    \n",
        "    start = time.time()    \n",
        "    GA_algh(population, all_lists, n, num_GENERATIONS, offspring_SIZE, population_SIZE)\n",
        "    end = time.time()\n",
        "    logging.info(f\"Time: {end - start} s\")\n",
        "    logging.info(f\"Call count: {__CALLS__['fitness'] - last}\\n\\n\")\n",
        "    last = __CALLS__['fitness']"
      ]
    },
    {
      "cell_type": "markdown",
      "metadata": {},
      "source": [
        "50 , 100"
      ]
    },
    {
      "cell_type": "code",
      "execution_count": 9,
      "metadata": {},
      "outputs": [
        {
          "name": "stderr",
          "output_type": "stream",
          "text": [
            "INFO:root:N = 50\n",
            "INFO:root:init: pop_size=213; max=(22, 56.00000000000001)\n",
            "INFO:root:Best solution, genoma: [[], [], [], [], [], [34, 2, 4, 5, 6, 39, 40, 43, 45, 14, 15, 48, 47, 18, 27, 31], [], [], [4, 38, 7, 40, 9, 10, 43, 24, 27], [], [], [], [32, 2, 34, 5, 38, 6, 40, 41, 42, 10, 44, 39, 15, 49, 22, 23, 26], [], [], [], [], [], [], [], [], [], [], [], [], [], [], [], [0, 1, 4, 6, 11, 12, 13, 17, 20, 23, 24, 25, 27, 28, 34, 36, 37, 39, 45, 47, 48], [], [], [], [], [3, 6, 41, 42, 43, 12, 46, 15, 21, 22, 25, 26, 27, 29, 30], [], [], [], [], [], [], [], [], [], [], [], [], [], [], [], [0, 33, 35, 6, 39, 8, 41, 42, 7, 9, 38, 47, 16, 17, 18, 19]]\n",
            "INFO:root:Best solution, fitness: (50, -88.0)\n",
            "INFO:root:Best solution, coverage: 50\n",
            "INFO:root:W: 94 (bloat = 88%)\n",
            "INFO:root:Time: 6.457998275756836 s\n",
            "INFO:root:Call count: 10213\n",
            "\n",
            "\n",
            "INFO:root:N = 100\n",
            "INFO:root:init: pop_size=427; max=(43, 56.99999999999999)\n",
            "INFO:root:Best solution, genoma: [[], [], [], [], [], [], [], [], [0, 5, 6, 10, 14, 15, 17, 18, 21, 26, 28, 30, 31, 33, 34, 35, 37, 38, 41, 44, 47, 52, 67, 68, 70, 77, 80, 81, 82, 83, 90, 92], [], [], [], [], [], [5, 6, 10, 13, 17, 18, 25, 27, 28, 29, 30, 31, 32, 34, 36, 37, 44, 48, 50, 56, 61, 67, 68, 69, 71, 75, 78, 81, 83, 85, 86, 89, 91, 94, 95, 98], [], [], [], [], [], [], [], [], [], [], [], [], [], [2, 4, 9, 12, 15, 22, 25, 33, 37, 38, 40, 43, 48, 49, 55, 56, 57, 58, 59, 62, 63, 64, 66, 69, 71, 84, 90, 96, 97, 98, 99], [], [], [], [], [], [], [], [], [], [], [], [2, 6, 8, 16, 18, 20, 21, 24, 29, 33, 36, 37, 38, 39, 41, 42, 43, 45, 47, 52, 56, 58, 61, 62, 66, 67, 70, 72, 74, 75, 79, 82, 83, 85, 89, 98], [], [], [], [], [], [], [], [], [], [], [], [], [], [], [], [], [], [], [], [], [], [], [2, 3, 7, 11, 17, 19, 20, 28, 30, 32, 35, 38, 43, 44, 45, 48, 49, 50, 62, 64, 71, 80, 84, 87, 93, 95], [], [], [], [], [], [], [], [], [], [], [], [], [], [], [], [], [], [], [], [], [], [], [], [], [], [4, 9, 10, 12, 15, 25, 29, 33, 35, 37, 42, 45, 46, 56, 64, 65, 69, 82, 86], [], [], [], [], [], [], [], [], [1, 6, 8, 9, 10, 11, 18, 20, 21, 22, 23, 25, 27, 32, 33, 34, 35, 38, 43, 44, 45, 49, 51, 53, 54, 55, 57, 60, 61, 67, 68, 71, 73, 76, 81, 85, 87, 88, 89, 91, 92, 96, 97], []]\n",
            "INFO:root:Best solution, fitness: (100, -123.0)\n",
            "INFO:root:Best solution, coverage: 100\n",
            "INFO:root:W: 223 (bloat = 123%)\n",
            "INFO:root:Time: 18.930000066757202 s\n",
            "INFO:root:Call count: 10427\n",
            "\n",
            "\n"
          ]
        }
      ],
      "source": [
        "for n in [50, 100]:    \n",
        "    population_SIZE = 20\n",
        "    offspring_SIZE = 20\n",
        "    num_GENERATIONS = 500    \n",
        "\n",
        "    logging.info(f\"N = {n}\")\n",
        "    population, all_lists = initialize_population(n)\n",
        "    logging.debug(population[0])\n",
        "\n",
        "    start = time.time()\n",
        "    GA_algh(population, all_lists, n, num_GENERATIONS, offspring_SIZE, population_SIZE)\n",
        "    end = time.time()\n",
        "    logging.info(f\"Time: {end - start} s\")\n",
        "    logging.info(f\"Call count: {__CALLS__['fitness'] - last}\\n\\n\")\n",
        "    last = __CALLS__['fitness']"
      ]
    },
    {
      "cell_type": "markdown",
      "metadata": {},
      "source": [
        "200 , 500 , 1000"
      ]
    },
    {
      "cell_type": "code",
      "execution_count": 10,
      "metadata": {},
      "outputs": [
        {
          "name": "stderr",
          "output_type": "stream",
          "text": [
            "INFO:root:N = 200\n",
            "INFO:root:init: pop_size=854; max=(87, 56.49999999999999)\n",
            "INFO:root:Best solution, fitness: (200, -198.5)\n",
            "INFO:root:Best solution, coverage: 200\n",
            "INFO:root:W: 597 (bloat = 198%)\n",
            "INFO:root:Time: 63.01859164237976 s\n",
            "INFO:root:Call count: 10854\n",
            "\n",
            "\n",
            "INFO:root:N = 500\n",
            "INFO:root:init: pop_size=1809; max=(208, 58.4)\n",
            "INFO:root:Best solution, fitness: (500, -247.8)\n",
            "INFO:root:Best solution, coverage: 500\n",
            "INFO:root:W: 1739 (bloat = 248%)\n",
            "INFO:root:Time: 271.87761878967285 s\n",
            "INFO:root:Call count: 11809\n",
            "\n",
            "\n",
            "INFO:root:N = 1000\n",
            "INFO:root:init: pop_size=3619; max=(409, 59.099999999999994)\n",
            "INFO:root:Best solution, fitness: (1000, -310.0)\n",
            "INFO:root:Best solution, coverage: 1000\n",
            "INFO:root:W: 4100 (bloat = 310%)\n",
            "INFO:root:Time: 923.0733354091644 s\n",
            "INFO:root:Call count: 13619\n",
            "\n",
            "\n"
          ]
        }
      ],
      "source": [
        "for n in [200, 500, 1000]:\n",
        "    population_SIZE = 20\n",
        "    offspring_SIZE = 20\n",
        "    num_GENERATIONS = 500\n",
        "\n",
        "    logging.info(f\"N = {n}\")\n",
        "    population, all_lists = initialize_population(n)\n",
        "    logging.debug(population[0])\n",
        "\n",
        "    start = time.time()\n",
        "    GA_algh(population, all_lists, n, num_GENERATIONS, offspring_SIZE, population_SIZE, shutdown = True)\n",
        "    end = time.time()\n",
        "    logging.info(f\"Time: {end - start} s\")\n",
        "    logging.info(f\"Call count: {__CALLS__['fitness'] - last}\\n\\n\")\n",
        "    last = __CALLS__['fitness']"
      ]
    },
    {
      "cell_type": "markdown",
      "metadata": {},
      "source": [
        "## Updated Version (2022/11/18)"
      ]
    },
    {
      "cell_type": "code",
      "execution_count": 75,
      "metadata": {},
      "outputs": [],
      "source": [
        "def mutation_rate(g, N):\n",
        "    '''Mutation rate function'''\n",
        "    cov = set()\n",
        "    for l in g:\n",
        "        logging.debug(f\"List: {l}\")   \n",
        "        cov = cov.union(set(l))\n",
        "        logging.debug(f\"cov: {cov}\")\n",
        "\n",
        "    return len(cov)/N # more exploration in early generations, more exploitation in later ones\n",
        "\n",
        "def clone_control(offspring, population):\n",
        "    '''Control of clones'''\n",
        "    # The idea is to check if the offspring is already present in the population\n",
        "    # If it is, it is not added to the population\n",
        "    for o in offspring:\n",
        "        if o not in population:\n",
        "            population.append(o)\n",
        "        else:\n",
        "            logging.debug(f\"Clone: {o}\")\n",
        "    return population  \n",
        "\n",
        "def tournament_with_a_hole(population, tournament_size = 2):\n",
        "    '''Tournament selection with fitness hole'''\n",
        "    if random.random() < 0.3:\n",
        "        return max(random.choices(population, k = tournament_size), key= lambda i: [len(_) for _ in i.genome])\n",
        "    else:\n",
        "        return max(random.choices(population, k = tournament_size), key= lambda i: i.fitness)  \n"
      ]
    },
    {
      "cell_type": "code",
      "execution_count": 76,
      "metadata": {},
      "outputs": [],
      "source": [
        "def GA_algh_v2(population, all_lists, N, num_GENERATIONS, offspring_SIZE, population_SIZE,  shutdown = False ):\n",
        "    '''Genetic Algorithm v2'''\n",
        "    fitness_log = [(0, i.fitness) for i in population]\n",
        "    last_best_genome = []\n",
        "    cont = 0\n",
        "\n",
        "    while cont < 10:\n",
        "        for g in range(num_GENERATIONS):\n",
        "            \n",
        "            offspring = list()\n",
        "            for i in range(offspring_SIZE):\n",
        "                # added a variable mutation rate (more exploration in early generations, more exploitation in later ones)\n",
        "                if random.random() < mutation_rate(population[0].genome, N):\n",
        "                    p = tournament_with_a_hole(population)\n",
        "                    o = mutation(p.genome, N, all_lists)\n",
        "                else:        \n",
        "                    p1 = tournament_with_a_hole(population, 20)\n",
        "                    p2 = tournament_with_a_hole(population, 20)\n",
        "                    logging.debug(f\"p1: {p1}, p2: {p2}\")\n",
        "                    o = cross_over(p1.genome, p2.genome, N)\n",
        "                    logging.debug(f\"o: {o}\")\n",
        "\n",
        "                f = fitness(o,N)\n",
        "                fitness_log.append((g + 1, f))\n",
        "                offspring.append(Individual(o, f))\n",
        "\n",
        "                \n",
        "            population = clone_control(offspring, population)         # first sorted by coverage, then by -w\n",
        "            population = sorted(population, key=lambda t: (t.fitness[0], t.fitness[1]), reverse=True)[:population_SIZE] \n",
        "\n",
        "            # added an early stopping condition (if the best solution doesn't change for cont generations, it stops)\n",
        "            if (population[0].fitness[0] == N and population[0].genome == last_best_genome):\n",
        "                cont += 1\n",
        "            else:\n",
        "                last_best_genome = population[0].genome\n",
        "                cont = 0\n",
        "\n",
        "    if not shutdown:    \n",
        "        logging.info(f\"Best solution, genoma: {population[0].genome}\")\n",
        "    logging.info(f\"Best solution, fitness: {population[0].fitness}\")\n",
        "    logging.info(f\"Best solution, coverage: {len(set().union(*population[0].genome))}\")\n",
        "    logging.info(f\"W: {sum(len(_) for _ in population[0].genome)} (bloat = {(sum(len(_) for _ in population[0].genome)-N)/N*100:.0f}%)\")"
      ]
    },
    {
      "cell_type": "code",
      "execution_count": 77,
      "metadata": {},
      "outputs": [],
      "source": [
        "last = 0"
      ]
    },
    {
      "cell_type": "code",
      "execution_count": 78,
      "metadata": {},
      "outputs": [
        {
          "name": "stderr",
          "output_type": "stream",
          "text": [
            "INFO:root:N = 5\n",
            "INFO:root:init: pop_size=21; max=(2, 60.0)\n",
            "INFO:root:Best solution, genoma: [[1, 3], [], [], [0], [2, 4]]\n",
            "INFO:root:Best solution, fitness: (5, 0.0)\n",
            "INFO:root:Best solution, coverage: 5\n",
            "INFO:root:W: 5 (bloat = 0%)\n",
            "INFO:root:Time: 0.1929948329925537 s\n",
            "INFO:root:Call count: 2021\n",
            "\n",
            "\n",
            "INFO:root:N = 10\n",
            "INFO:root:init: pop_size=49; max=(5, 50.0)\n",
            "INFO:root:Best solution, genoma: [[], [], [], [], [8, 1, 3, 7], [9, 6], [0, 4], [], [], [2, 5]]\n",
            "INFO:root:Best solution, fitness: (10, 0.0)\n",
            "INFO:root:Best solution, coverage: 10\n",
            "INFO:root:W: 10 (bloat = 0%)\n",
            "INFO:root:Time: 0.24799776077270508 s\n",
            "INFO:root:Call count: 2049\n",
            "\n",
            "\n",
            "INFO:root:N = 20\n",
            "INFO:root:init: pop_size=34; max=(9, 55.00000000000001)\n",
            "INFO:root:Best solution, genoma: [[], [], [], [], [], [16, 9, 19, 6], [], [], [0, 1, 2, 7], [], [], [], [], [4, 7, 11, 12, 15, 16, 18], [], [0, 3, 5, 8, 9, 10, 13, 14, 17], [18, 2, 15], [], [], []]\n",
            "INFO:root:Best solution, fitness: (20, -35.0)\n",
            "INFO:root:Best solution, coverage: 20\n",
            "INFO:root:W: 27 (bloat = 35%)\n",
            "INFO:root:Time: 1.0199973583221436 s\n",
            "INFO:root:Call count: 4034\n",
            "\n",
            "\n"
          ]
        }
      ],
      "source": [
        "for n in [5, 10, 20]:    \n",
        "    population_SIZE = 5\n",
        "    offspring_SIZE = 20\n",
        "\n",
        "    if n in [5, 10]:        \n",
        "        num_GENERATIONS = 100\n",
        "    else:\n",
        "        num_GENERATIONS = 200\n",
        "\n",
        "    logging.info(f\"N = {n}\")\n",
        "    population, all_lists = initialize_population(n)\n",
        "    logging.debug(population[0])\n",
        "    \n",
        "    start = time.time()    \n",
        "    GA_algh_v2(population, all_lists, n, num_GENERATIONS, offspring_SIZE, population_SIZE)\n",
        "    end = time.time()\n",
        "    logging.info(f\"Time: {end - start} s\")\n",
        "    logging.info(f\"Call count: {__CALLS__['fitness'] - last}\\n\\n\")\n",
        "    last = __CALLS__['fitness']"
      ]
    },
    {
      "cell_type": "code",
      "execution_count": 79,
      "metadata": {},
      "outputs": [
        {
          "name": "stderr",
          "output_type": "stream",
          "text": [
            "INFO:root:N = 50\n",
            "INFO:root:init: pop_size=213; max=(22, 56.00000000000001)\n",
            "INFO:root:Best solution, genoma: [[], [], [], [], [], [], [3, 6, 7, 9, 10, 12, 15, 17, 18, 20, 24, 26, 28, 29, 31, 32, 36, 39, 46, 48], [], [], [], [], [], [0, 33, 34, 3, 2, 4, 41, 42, 11, 46, 48, 31], [], [34, 38, 47, 48, 19, 22, 24, 26], [], [32, 7, 40, 39, 8, 43, 44, 45, 14, 49, 18, 19, 23, 25], [], [], [], [], [], [], [], [], [], [], [], [], [], [], [], [1, 2, 40, 47, 16, 22, 23, 24, 30], [], [], [], [], [], [35, 41, 13, 46, 14, 49, 21, 25, 26, 27, 28, 29], [], [], [], [], [], [32, 33, 3, 4, 37, 5, 38, 10, 11, 30], [], [], [], [], []]\n",
            "INFO:root:Best solution, fitness: (50, -70.0)\n",
            "INFO:root:Best solution, coverage: 50\n",
            "INFO:root:W: 85 (bloat = 70%)\n",
            "INFO:root:Time: 9.127003908157349 s\n",
            "INFO:root:Call count: 10213\n",
            "\n",
            "\n",
            "INFO:root:N = 100\n",
            "INFO:root:init: pop_size=427; max=(43, 56.99999999999999)\n",
            "INFO:root:Best solution, genoma: [[], [], [], [], [], [], [9, 13, 18, 19, 22, 24, 25, 30, 32, 44, 65, 67, 77, 82, 83, 93, 97, 98, 99], [], [], [], [], [], [], [], [], [5, 8, 10, 12, 15, 20, 24, 26, 29, 33, 34, 35, 37, 45, 46, 47, 48, 58, 68, 70, 73, 79, 80, 81, 82, 84, 85, 87, 89, 90, 93, 98], [], [], [], [], [], [], [], [], [], [], [], [], [], [], [], [], [], [], [], [1, 6, 7, 8, 18, 24, 25, 30, 42, 43, 44, 54, 59, 60, 64, 66, 71, 72, 74, 75, 76, 81, 84, 85, 86, 88], [], [], [], [], [], [], [], [], [], [], [4, 5, 12, 14, 17, 19, 27, 30, 35, 38, 47, 49, 52, 53, 56, 58, 59, 62, 63, 68, 69, 75, 78, 83, 85, 88, 89, 93, 95], [], [], [], [0, 1, 2, 13, 14, 21, 33, 50, 51, 55, 58, 61, 68, 77, 83, 84, 86, 88, 92, 95], [], [], [], [3, 5, 6, 17, 26, 29, 31, 35, 36, 40, 42, 43, 53, 56, 66, 69, 76, 82, 85, 92, 93, 94, 96, 97], [], [], [], [], [], [], [], [], [], [], [], [], [], [], [], [], [0, 2, 5, 11, 13, 14, 24, 25, 26, 35, 36, 39, 40, 41, 42, 49, 56, 59, 66, 68, 73, 76, 81, 84, 87, 91, 95, 97, 98], [], [3, 4, 5, 14, 15, 16, 18, 19, 20, 22, 23, 26, 30, 33, 36, 38, 40, 44, 47, 51, 56, 57, 58, 63, 68, 69, 71, 73, 85, 88, 90, 98], [], [], [], [], [], [0, 9, 13, 14, 22, 24, 28, 32, 33, 35, 37, 43, 44, 51, 52, 58, 64, 65, 68, 71, 73, 74, 77, 92], [], [], [], [], [], [], [], [], [], [], [], [], [], [], [], [], [], [], [], []]\n",
            "INFO:root:Best solution, fitness: (100, -135.0)\n",
            "INFO:root:Best solution, coverage: 100\n",
            "INFO:root:W: 235 (bloat = 135%)\n",
            "INFO:root:Time: 27.563557624816895 s\n",
            "INFO:root:Call count: 10427\n",
            "\n",
            "\n"
          ]
        }
      ],
      "source": [
        "for n in [50, 100]:    \n",
        "    population_SIZE = 20\n",
        "    offspring_SIZE = 20\n",
        "    num_GENERATIONS = 500 \n",
        "\n",
        "    logging.info(f\"N = {n}\")\n",
        "    population, all_lists = initialize_population(n)\n",
        "    logging.debug(population[0])\n",
        "\n",
        "    start = time.time()\n",
        "    GA_algh_v2(population, all_lists, n, num_GENERATIONS, offspring_SIZE, population_SIZE)\n",
        "    end = time.time()\n",
        "    logging.info(f\"Time: {end - start} s\")\n",
        "    logging.info(f\"Call count: {__CALLS__['fitness'] - last}\\n\\n\")\n",
        "    last = __CALLS__['fitness']"
      ]
    },
    {
      "cell_type": "code",
      "execution_count": 80,
      "metadata": {},
      "outputs": [
        {
          "name": "stderr",
          "output_type": "stream",
          "text": [
            "INFO:root:N = 200\n",
            "INFO:root:init: pop_size=854; max=(87, 56.49999999999999)\n",
            "INFO:root:Best solution, fitness: (200, -196.0)\n",
            "INFO:root:Best solution, coverage: 200\n",
            "INFO:root:W: 592 (bloat = 196%)\n",
            "INFO:root:Time: 101.25542783737183 s\n",
            "INFO:root:Call count: 10854\n",
            "\n",
            "\n",
            "INFO:root:N = 500\n",
            "INFO:root:init: pop_size=1809; max=(208, 58.4)\n",
            "INFO:root:Best solution, fitness: (500, -231.4)\n",
            "INFO:root:Best solution, coverage: 500\n",
            "INFO:root:W: 1657 (bloat = 231%)\n",
            "INFO:root:Time: 536.6628746986389 s\n",
            "INFO:root:Call count: 11809\n",
            "\n",
            "\n",
            "INFO:root:N = 1000\n",
            "INFO:root:init: pop_size=3619; max=(409, 59.099999999999994)\n",
            "INFO:root:Best solution, fitness: (1000, -352.59999999999997)\n",
            "INFO:root:Best solution, coverage: 1000\n",
            "INFO:root:W: 4526 (bloat = 353%)\n",
            "INFO:root:Time: 1963.1160719394684 s\n",
            "INFO:root:Call count: 13619\n",
            "\n",
            "\n"
          ]
        }
      ],
      "source": [
        "for n in [200, 500, 1000]:\n",
        "    population_SIZE = 20\n",
        "    offspring_SIZE = 20\n",
        "    num_GENERATIONS = 500\n",
        "\n",
        "    logging.info(f\"N = {n}\")\n",
        "    population, all_lists = initialize_population(n)\n",
        "    logging.debug(population[0])\n",
        "\n",
        "    start = time.time()\n",
        "    GA_algh_v2(population, all_lists, n, num_GENERATIONS, offspring_SIZE, population_SIZE, shutdown = True)\n",
        "    end = time.time()\n",
        "    logging.info(f\"Time: {end - start} s\")\n",
        "    logging.info(f\"Call count: {__CALLS__['fitness'] - last}\\n\\n\")\n",
        "    last = __CALLS__['fitness']"
      ]
    },
    {
      "cell_type": "code",
      "execution_count": null,
      "metadata": {},
      "outputs": [],
      "source": []
    }
  ],
  "metadata": {
    "colab": {
      "collapsed_sections": [],
      "provenance": []
    },
    "kernelspec": {
      "display_name": "Python 3.10.7 64-bit",
      "language": "python",
      "name": "python3"
    },
    "language_info": {
      "codemirror_mode": {
        "name": "ipython",
        "version": 3
      },
      "file_extension": ".py",
      "mimetype": "text/x-python",
      "name": "python",
      "nbconvert_exporter": "python",
      "pygments_lexer": "ipython3",
      "version": "3.10.7"
    },
    "orig_nbformat": 4,
    "vscode": {
      "interpreter": {
        "hash": "40f3a4812ee57c40b59d76ee034c57a53ddf77e0e0c42117da421797a4b26df7"
      }
    }
  },
  "nbformat": 4,
  "nbformat_minor": 0
}
